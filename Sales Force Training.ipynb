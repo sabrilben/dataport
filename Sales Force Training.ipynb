{
 "cells": [
  {
   "cell_type": "markdown",
   "id": "0d2bd361",
   "metadata": {},
   "source": [
    "# Sales Force Training\n",
    "\n",
    "**Company Background:**\n",
    "\n",
    "Company X wants to increase their sales. Previous sales data shows that the average sale is $100 per transaction. After training the sales workers, the latest sales data (taken from a sample of 25 sales workers) is stored in the table below.\n",
    "\n",
    "**Objective:**\n",
    "\n",
    "Perform a hypothesis testing to prove if the training of sales workers is indeed affect in increasing the sales."
   ]
  },
  {
   "cell_type": "markdown",
   "id": "a9325991",
   "metadata": {},
   "source": [
    "## Import Library & Generate Dataset"
   ]
  },
  {
   "cell_type": "code",
   "execution_count": 1,
   "id": "309dabb9-e570-4d6f-b227-5f2fdd40736b",
   "metadata": {
    "executionInfo": {
     "elapsed": 584,
     "status": "ok",
     "timestamp": 1671520030242,
     "user": {
      "displayName": "Stephanie Fani",
      "userId": "03013489333346707504"
     },
     "user_tz": -420
    },
    "id": "309dabb9-e570-4d6f-b227-5f2fdd40736b"
   },
   "outputs": [],
   "source": [
    "#Import Libraries\n",
    "import pandas as pd\n",
    "import numpy as np\n",
    "import scipy.stats as stats"
   ]
  },
  {
   "cell_type": "code",
   "execution_count": 2,
   "id": "56587e98-c378-44b9-93f0-d796b76124ff",
   "metadata": {
    "colab": {
     "base_uri": "https://localhost:8080/",
     "height": 833
    },
    "executionInfo": {
     "elapsed": 4,
     "status": "ok",
     "timestamp": 1671520030243,
     "user": {
      "displayName": "Stephanie Fani",
      "userId": "03013489333346707504"
     },
     "user_tz": -420
    },
    "id": "56587e98-c378-44b9-93f0-d796b76124ff",
    "outputId": "34e681a7-bda2-4ea7-c895-b08208412753"
   },
   "outputs": [
    {
     "data": {
      "text/html": [
       "<div>\n",
       "<style scoped>\n",
       "    .dataframe tbody tr th:only-of-type {\n",
       "        vertical-align: middle;\n",
       "    }\n",
       "\n",
       "    .dataframe tbody tr th {\n",
       "        vertical-align: top;\n",
       "    }\n",
       "\n",
       "    .dataframe thead th {\n",
       "        text-align: right;\n",
       "    }\n",
       "</style>\n",
       "<table border=\"1\" class=\"dataframe\">\n",
       "  <thead>\n",
       "    <tr style=\"text-align: right;\">\n",
       "      <th></th>\n",
       "      <th>TransactionAmount</th>\n",
       "    </tr>\n",
       "  </thead>\n",
       "  <tbody>\n",
       "    <tr>\n",
       "      <th>0</th>\n",
       "      <td>100</td>\n",
       "    </tr>\n",
       "    <tr>\n",
       "      <th>1</th>\n",
       "      <td>150</td>\n",
       "    </tr>\n",
       "    <tr>\n",
       "      <th>2</th>\n",
       "      <td>50</td>\n",
       "    </tr>\n",
       "    <tr>\n",
       "      <th>3</th>\n",
       "      <td>100</td>\n",
       "    </tr>\n",
       "    <tr>\n",
       "      <th>4</th>\n",
       "      <td>130</td>\n",
       "    </tr>\n",
       "    <tr>\n",
       "      <th>5</th>\n",
       "      <td>120</td>\n",
       "    </tr>\n",
       "    <tr>\n",
       "      <th>6</th>\n",
       "      <td>100</td>\n",
       "    </tr>\n",
       "    <tr>\n",
       "      <th>7</th>\n",
       "      <td>85</td>\n",
       "    </tr>\n",
       "    <tr>\n",
       "      <th>8</th>\n",
       "      <td>70</td>\n",
       "    </tr>\n",
       "    <tr>\n",
       "      <th>9</th>\n",
       "      <td>150</td>\n",
       "    </tr>\n",
       "    <tr>\n",
       "      <th>10</th>\n",
       "      <td>150</td>\n",
       "    </tr>\n",
       "    <tr>\n",
       "      <th>11</th>\n",
       "      <td>120</td>\n",
       "    </tr>\n",
       "    <tr>\n",
       "      <th>12</th>\n",
       "      <td>50</td>\n",
       "    </tr>\n",
       "    <tr>\n",
       "      <th>13</th>\n",
       "      <td>100</td>\n",
       "    </tr>\n",
       "    <tr>\n",
       "      <th>14</th>\n",
       "      <td>100</td>\n",
       "    </tr>\n",
       "    <tr>\n",
       "      <th>15</th>\n",
       "      <td>140</td>\n",
       "    </tr>\n",
       "    <tr>\n",
       "      <th>16</th>\n",
       "      <td>90</td>\n",
       "    </tr>\n",
       "    <tr>\n",
       "      <th>17</th>\n",
       "      <td>150</td>\n",
       "    </tr>\n",
       "    <tr>\n",
       "      <th>18</th>\n",
       "      <td>50</td>\n",
       "    </tr>\n",
       "    <tr>\n",
       "      <th>19</th>\n",
       "      <td>90</td>\n",
       "    </tr>\n",
       "    <tr>\n",
       "      <th>20</th>\n",
       "      <td>120</td>\n",
       "    </tr>\n",
       "    <tr>\n",
       "      <th>21</th>\n",
       "      <td>100</td>\n",
       "    </tr>\n",
       "    <tr>\n",
       "      <th>22</th>\n",
       "      <td>110</td>\n",
       "    </tr>\n",
       "    <tr>\n",
       "      <th>23</th>\n",
       "      <td>75</td>\n",
       "    </tr>\n",
       "    <tr>\n",
       "      <th>24</th>\n",
       "      <td>65</td>\n",
       "    </tr>\n",
       "  </tbody>\n",
       "</table>\n",
       "</div>"
      ],
      "text/plain": [
       "    TransactionAmount\n",
       "0                 100\n",
       "1                 150\n",
       "2                  50\n",
       "3                 100\n",
       "4                 130\n",
       "5                 120\n",
       "6                 100\n",
       "7                  85\n",
       "8                  70\n",
       "9                 150\n",
       "10                150\n",
       "11                120\n",
       "12                 50\n",
       "13                100\n",
       "14                100\n",
       "15                140\n",
       "16                 90\n",
       "17                150\n",
       "18                 50\n",
       "19                 90\n",
       "20                120\n",
       "21                100\n",
       "22                110\n",
       "23                 75\n",
       "24                 65"
      ]
     },
     "execution_count": 2,
     "metadata": {},
     "output_type": "execute_result"
    }
   ],
   "source": [
    "#Create DataFrame based on latest sales data\n",
    "df = pd.DataFrame([100, 150, 50, 100, 130, 120,\n",
    "                   100, 85, 70, 150, 150, 120,\n",
    "                   50, 100, 100, 140, 90, 150,\n",
    "                   50, 90, 120, 100, 110, 75, 65],\n",
    "                  columns = [\"TransactionAmount\"])\n",
    "df"
   ]
  },
  {
   "cell_type": "markdown",
   "id": "f4ca753c",
   "metadata": {},
   "source": [
    "## Check Central Tendency & Variability"
   ]
  },
  {
   "cell_type": "code",
   "execution_count": 3,
   "id": "KOFYWfvUtfMx",
   "metadata": {
    "colab": {
     "base_uri": "https://localhost:8080/"
    },
    "executionInfo": {
     "elapsed": 6,
     "status": "ok",
     "timestamp": 1671520030708,
     "user": {
      "displayName": "Stephanie Fani",
      "userId": "03013489333346707504"
     },
     "user_tz": -420
    },
    "id": "KOFYWfvUtfMx",
    "outputId": "4d59d08d-7da4-4d66-c8e2-35761e1ac331"
   },
   "outputs": [
    {
     "name": "stdout",
     "output_type": "stream",
     "text": [
      "Mean =  102.6\n",
      "Median =  100\n"
     ]
    }
   ],
   "source": [
    "#Central Tendency\n",
    "import statistics\n",
    "print(\"Mean = \", statistics.mean(df[\"TransactionAmount\"]))\n",
    "print(\"Median = \", statistics.median(df[\"TransactionAmount\"]))"
   ]
  },
  {
   "cell_type": "markdown",
   "id": "ab3dafda",
   "metadata": {},
   "source": [
    "#### **Analysis on `Central Tendency`:**\n",
    "\n",
    "From the results, it can be concluded that the data tends to be slightly skewed to the right (positive skewed), indicating that the values in the data tend to be higher than the average."
   ]
  },
  {
   "cell_type": "code",
   "execution_count": 4,
   "id": "UcbHy344uQ-G",
   "metadata": {
    "colab": {
     "base_uri": "https://localhost:8080/"
    },
    "executionInfo": {
     "elapsed": 525,
     "status": "ok",
     "timestamp": 1671520041794,
     "user": {
      "displayName": "Stephanie Fani",
      "userId": "03013489333346707504"
     },
     "user_tz": -420
    },
    "id": "UcbHy344uQ-G",
    "outputId": "0efd8348-3879-4a79-8085-fd842b5d1a60"
   },
   "outputs": [
    {
     "name": "stdout",
     "output_type": "stream",
     "text": [
      "Variance =  972.2399999999997\n",
      "Std Dev =  31.180763300471007\n",
      "Range =  100\n",
      "Q1 =  85.0\n",
      "Median =  100.0\n",
      "Q3 =  120.0\n"
     ]
    }
   ],
   "source": [
    "#Variability\n",
    "import numpy as np\n",
    "print(\"Variance = \", np.var(df[\"TransactionAmount\"]))\n",
    "print(\"Std Dev = \", np.std(df[\"TransactionAmount\"]))\n",
    "print(\"Range = \", np.max(df[\"TransactionAmount\"]) - np.min(df[\"TransactionAmount\"]))\n",
    "print(\"Q1 = \", np.quantile(df[\"TransactionAmount\"], 0.25))\n",
    "print(\"Median = \", np.quantile(df[\"TransactionAmount\"], 0.5))\n",
    "print(\"Q3 = \", np.quantile(df[\"TransactionAmount\"], 0.75))"
   ]
  },
  {
   "cell_type": "markdown",
   "id": "9124e914",
   "metadata": {},
   "source": [
    "#### **Analysis on `Variability`:**\n",
    "\n",
    "From the results, it can be concluded that the data tends to be far apart from the average value with high variation. This is characterized by high var/std values and the range of data."
   ]
  },
  {
   "cell_type": "markdown",
   "id": "22a13185",
   "metadata": {},
   "source": [
    "## Hypothesis Testing\n",
    "\n",
    "#### Define H0 and H1:\n",
    "\n",
    "* `H0: Avg sales = $100`\n",
    "* `H1: Avg sales > $100`\n",
    "\n",
    "#### Define alpha:\n",
    "\n",
    "* `alpha = 0.05`"
   ]
  },
  {
   "cell_type": "markdown",
   "id": "d64ad934",
   "metadata": {},
   "source": [
    "### T Statistics"
   ]
  },
  {
   "cell_type": "code",
   "execution_count": 5,
   "id": "686e0fc4-84d5-4712-ae90-b47eb3ea44ac",
   "metadata": {
    "colab": {
     "base_uri": "https://localhost:8080/"
    },
    "executionInfo": {
     "elapsed": 2,
     "status": "ok",
     "timestamp": 1671520114452,
     "user": {
      "displayName": "Stephanie Fani",
      "userId": "03013489333346707504"
     },
     "user_tz": -420
    },
    "id": "686e0fc4-84d5-4712-ae90-b47eb3ea44ac",
    "outputId": "42c97137-4bef-4516-8b06-654df3bbaa93"
   },
   "outputs": [
    {
     "data": {
      "text/plain": [
       "TtestResult(statistic=0.4085001556802841, pvalue=0.6865284813438117, df=24)"
      ]
     },
     "execution_count": 5,
     "metadata": {},
     "output_type": "execute_result"
    }
   ],
   "source": [
    "#Calculate t statistics and P-value\n",
    "#Perform one sample t-test\n",
    "\n",
    "stats.ttest_1samp(a=df[\"TransactionAmount\"], popmean=100)"
   ]
  },
  {
   "cell_type": "markdown",
   "id": "60fdc4e9",
   "metadata": {},
   "source": [
    "#### Results:\n",
    "\n",
    "* `t-statistic = 0.41`\n",
    "* `p-value = 0.69`\n",
    "* `degree of freedom = 24`\n",
    "\n",
    "As the p-value is larger than alpha (5%), then we fail to reject H0\n",
    "\n",
    "#### Conclusion:\n",
    "\n",
    "Training salesman is not effective to increase the sales, as the avg sales is still at $100\n",
    "\n",
    "**To make sure the validity of this results, let's check if t-stats is in critical region or not.**"
   ]
  },
  {
   "cell_type": "code",
   "execution_count": 6,
   "id": "1429f038",
   "metadata": {},
   "outputs": [
    {
     "data": {
      "text/plain": [
       "1.7108820799094275"
      ]
     },
     "execution_count": 6,
     "metadata": {},
     "output_type": "execute_result"
    }
   ],
   "source": [
    "#Conclude with t statistics and critical region\n",
    "#Find the critical region\n",
    "\n",
    "#H1: larger (right side)\n",
    "stats.t.ppf(1-0.05, 24)"
   ]
  },
  {
   "cell_type": "markdown",
   "id": "f8c327cf",
   "metadata": {},
   "source": [
    "#### Results:\n",
    "* `Critical Region: t > 1.71`\n",
    "\n",
    "As the t-stats (0.41) is not in the critical region (> 1.71), then we fail to reject H0\n",
    "\n",
    "#### Conclusion:\n",
    "\n",
    "Training salesman is indeed not effective to increase the sales, as the avg sales is still at $100"
   ]
  }
 ],
 "metadata": {
  "colab": {
   "provenance": []
  },
  "kernelspec": {
   "display_name": "Python 3 (ipykernel)",
   "language": "python",
   "name": "python3"
  },
  "language_info": {
   "codemirror_mode": {
    "name": "ipython",
    "version": 3
   },
   "file_extension": ".py",
   "mimetype": "text/x-python",
   "name": "python",
   "nbconvert_exporter": "python",
   "pygments_lexer": "ipython3",
   "version": "3.11.7"
  },
  "vscode": {
   "interpreter": {
    "hash": "5e70fd34aa919644e731ce0c71c5ec6c66d3b48eb7909f9a04da7ee7076ef028"
   }
  }
 },
 "nbformat": 4,
 "nbformat_minor": 5
}
