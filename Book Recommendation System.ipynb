{
 "cells": [
  {
   "cell_type": "markdown",
   "id": "362f418f",
   "metadata": {},
   "source": [
    "# Book Recommendation\n",
    "\n",
    "The goal is to get a recommender system based on the users and ratings data.\n",
    "\n",
    "In this project, we will try to create a book recommender system based on the users and ratings data. You can click the link below to access the dataset. The Book-Crossing dataset comprises 3 files.\n",
    "* **Users:**\n",
    "Contains the users. Note that user IDs (User-ID) have been anonymized and map to integers. Demographic data is provided (Location, Age) if available. Otherwise, these fields contain NULL-values.\n",
    "\n",
    "* **Books:**\n",
    "Books are identified by their respective ISBN. Invalid ISBNs have already been removed from the dataset. Moreover, some content-based information is given (Book-Title, Book-Author, Year-Of-Publication, Publisher), obtained from Amazon Web Services. Note that in case of several authors, only the first is provided. URLs linking to cover images are also given, appearing in three different flavours (Image-URL-S, Image-URL-M, Image-URL-L), i.e., small, medium, large. These URLs point to the Amazon web site.\n",
    "\n",
    "* **Ratings:**\n",
    "Contains the book rating information. Ratings (Book-Rating) are either explicit, expressed on a scale from 1-10 (higher values denoting higher appreciation), or implicit, expressed by 0.\n",
    "\n",
    "Dataset:\n",
    "* https://www.kaggle.com/datasets/arashnic/book-recommendation-dataset"
   ]
  },
  {
   "cell_type": "markdown",
   "id": "8af2ad7a",
   "metadata": {},
   "source": [
    "## Import Libraries & Dataset"
   ]
  },
  {
   "cell_type": "code",
   "execution_count": 1,
   "id": "e849c098",
   "metadata": {},
   "outputs": [],
   "source": [
    "import pandas as pd\n",
    "import numpy as np\n",
    "import seaborn as sns\n",
    "%matplotlib inline\n",
    "import matplotlib.pyplot as plt\n",
    "from sklearn.preprocessing import StandardScaler\n",
    "from sklearn.metrics.pairwise import cosine_similarity"
   ]
  },
  {
   "cell_type": "code",
   "execution_count": 2,
   "id": "3f815a61",
   "metadata": {},
   "outputs": [
    {
     "name": "stderr",
     "output_type": "stream",
     "text": [
      "C:\\Users\\sabri\\AppData\\Local\\Temp\\ipykernel_20896\\439225532.py:2: DtypeWarning: Columns (3) have mixed types. Specify dtype option on import or set low_memory=False.\n",
      "  books = pd.read_csv('D:/Working Directory/Python/Final Project DS - Kelas.Work/Book Recommendation Dataset/Books.csv')\n"
     ]
    }
   ],
   "source": [
    "users = pd.read_csv('D:/Working Directory/Python/Final Project DS - Kelas.Work/Book Recommendation Dataset/Users.csv')\n",
    "books = pd.read_csv('D:/Working Directory/Python/Final Project DS - Kelas.Work/Book Recommendation Dataset/Books.csv')\n",
    "ratings = pd.read_csv('D:/Working Directory/Python/Final Project DS - Kelas.Work/Book Recommendation Dataset/Ratings.csv')"
   ]
  },
  {
   "cell_type": "code",
   "execution_count": 3,
   "id": "dcb03266",
   "metadata": {},
   "outputs": [
    {
     "data": {
      "text/html": [
       "<div>\n",
       "<style scoped>\n",
       "    .dataframe tbody tr th:only-of-type {\n",
       "        vertical-align: middle;\n",
       "    }\n",
       "\n",
       "    .dataframe tbody tr th {\n",
       "        vertical-align: top;\n",
       "    }\n",
       "\n",
       "    .dataframe thead th {\n",
       "        text-align: right;\n",
       "    }\n",
       "</style>\n",
       "<table border=\"1\" class=\"dataframe\">\n",
       "  <thead>\n",
       "    <tr style=\"text-align: right;\">\n",
       "      <th></th>\n",
       "      <th>User-ID</th>\n",
       "      <th>Location</th>\n",
       "      <th>Age</th>\n",
       "    </tr>\n",
       "  </thead>\n",
       "  <tbody>\n",
       "    <tr>\n",
       "      <th>0</th>\n",
       "      <td>1</td>\n",
       "      <td>nyc, new york, usa</td>\n",
       "      <td>NaN</td>\n",
       "    </tr>\n",
       "    <tr>\n",
       "      <th>1</th>\n",
       "      <td>2</td>\n",
       "      <td>stockton, california, usa</td>\n",
       "      <td>18.0</td>\n",
       "    </tr>\n",
       "    <tr>\n",
       "      <th>2</th>\n",
       "      <td>3</td>\n",
       "      <td>moscow, yukon territory, russia</td>\n",
       "      <td>NaN</td>\n",
       "    </tr>\n",
       "    <tr>\n",
       "      <th>3</th>\n",
       "      <td>4</td>\n",
       "      <td>porto, v.n.gaia, portugal</td>\n",
       "      <td>17.0</td>\n",
       "    </tr>\n",
       "    <tr>\n",
       "      <th>4</th>\n",
       "      <td>5</td>\n",
       "      <td>farnborough, hants, united kingdom</td>\n",
       "      <td>NaN</td>\n",
       "    </tr>\n",
       "  </tbody>\n",
       "</table>\n",
       "</div>"
      ],
      "text/plain": [
       "   User-ID                            Location   Age\n",
       "0        1                  nyc, new york, usa   NaN\n",
       "1        2           stockton, california, usa  18.0\n",
       "2        3     moscow, yukon territory, russia   NaN\n",
       "3        4           porto, v.n.gaia, portugal  17.0\n",
       "4        5  farnborough, hants, united kingdom   NaN"
      ]
     },
     "execution_count": 3,
     "metadata": {},
     "output_type": "execute_result"
    }
   ],
   "source": [
    "users.head()"
   ]
  },
  {
   "cell_type": "code",
   "execution_count": 4,
   "id": "971cc8af",
   "metadata": {},
   "outputs": [
    {
     "data": {
      "text/html": [
       "<div>\n",
       "<style scoped>\n",
       "    .dataframe tbody tr th:only-of-type {\n",
       "        vertical-align: middle;\n",
       "    }\n",
       "\n",
       "    .dataframe tbody tr th {\n",
       "        vertical-align: top;\n",
       "    }\n",
       "\n",
       "    .dataframe thead th {\n",
       "        text-align: right;\n",
       "    }\n",
       "</style>\n",
       "<table border=\"1\" class=\"dataframe\">\n",
       "  <thead>\n",
       "    <tr style=\"text-align: right;\">\n",
       "      <th></th>\n",
       "      <th>ISBN</th>\n",
       "      <th>Book-Title</th>\n",
       "      <th>Book-Author</th>\n",
       "      <th>Year-Of-Publication</th>\n",
       "      <th>Publisher</th>\n",
       "      <th>Image-URL-S</th>\n",
       "      <th>Image-URL-M</th>\n",
       "      <th>Image-URL-L</th>\n",
       "    </tr>\n",
       "  </thead>\n",
       "  <tbody>\n",
       "    <tr>\n",
       "      <th>0</th>\n",
       "      <td>0195153448</td>\n",
       "      <td>Classical Mythology</td>\n",
       "      <td>Mark P. O. Morford</td>\n",
       "      <td>2002</td>\n",
       "      <td>Oxford University Press</td>\n",
       "      <td>http://images.amazon.com/images/P/0195153448.0...</td>\n",
       "      <td>http://images.amazon.com/images/P/0195153448.0...</td>\n",
       "      <td>http://images.amazon.com/images/P/0195153448.0...</td>\n",
       "    </tr>\n",
       "    <tr>\n",
       "      <th>1</th>\n",
       "      <td>0002005018</td>\n",
       "      <td>Clara Callan</td>\n",
       "      <td>Richard Bruce Wright</td>\n",
       "      <td>2001</td>\n",
       "      <td>HarperFlamingo Canada</td>\n",
       "      <td>http://images.amazon.com/images/P/0002005018.0...</td>\n",
       "      <td>http://images.amazon.com/images/P/0002005018.0...</td>\n",
       "      <td>http://images.amazon.com/images/P/0002005018.0...</td>\n",
       "    </tr>\n",
       "    <tr>\n",
       "      <th>2</th>\n",
       "      <td>0060973129</td>\n",
       "      <td>Decision in Normandy</td>\n",
       "      <td>Carlo D'Este</td>\n",
       "      <td>1991</td>\n",
       "      <td>HarperPerennial</td>\n",
       "      <td>http://images.amazon.com/images/P/0060973129.0...</td>\n",
       "      <td>http://images.amazon.com/images/P/0060973129.0...</td>\n",
       "      <td>http://images.amazon.com/images/P/0060973129.0...</td>\n",
       "    </tr>\n",
       "    <tr>\n",
       "      <th>3</th>\n",
       "      <td>0374157065</td>\n",
       "      <td>Flu: The Story of the Great Influenza Pandemic...</td>\n",
       "      <td>Gina Bari Kolata</td>\n",
       "      <td>1999</td>\n",
       "      <td>Farrar Straus Giroux</td>\n",
       "      <td>http://images.amazon.com/images/P/0374157065.0...</td>\n",
       "      <td>http://images.amazon.com/images/P/0374157065.0...</td>\n",
       "      <td>http://images.amazon.com/images/P/0374157065.0...</td>\n",
       "    </tr>\n",
       "    <tr>\n",
       "      <th>4</th>\n",
       "      <td>0393045218</td>\n",
       "      <td>The Mummies of Urumchi</td>\n",
       "      <td>E. J. W. Barber</td>\n",
       "      <td>1999</td>\n",
       "      <td>W. W. Norton &amp;amp; Company</td>\n",
       "      <td>http://images.amazon.com/images/P/0393045218.0...</td>\n",
       "      <td>http://images.amazon.com/images/P/0393045218.0...</td>\n",
       "      <td>http://images.amazon.com/images/P/0393045218.0...</td>\n",
       "    </tr>\n",
       "  </tbody>\n",
       "</table>\n",
       "</div>"
      ],
      "text/plain": [
       "         ISBN                                         Book-Title  \\\n",
       "0  0195153448                                Classical Mythology   \n",
       "1  0002005018                                       Clara Callan   \n",
       "2  0060973129                               Decision in Normandy   \n",
       "3  0374157065  Flu: The Story of the Great Influenza Pandemic...   \n",
       "4  0393045218                             The Mummies of Urumchi   \n",
       "\n",
       "            Book-Author Year-Of-Publication                   Publisher  \\\n",
       "0    Mark P. O. Morford                2002     Oxford University Press   \n",
       "1  Richard Bruce Wright                2001       HarperFlamingo Canada   \n",
       "2          Carlo D'Este                1991             HarperPerennial   \n",
       "3      Gina Bari Kolata                1999        Farrar Straus Giroux   \n",
       "4       E. J. W. Barber                1999  W. W. Norton &amp; Company   \n",
       "\n",
       "                                         Image-URL-S  \\\n",
       "0  http://images.amazon.com/images/P/0195153448.0...   \n",
       "1  http://images.amazon.com/images/P/0002005018.0...   \n",
       "2  http://images.amazon.com/images/P/0060973129.0...   \n",
       "3  http://images.amazon.com/images/P/0374157065.0...   \n",
       "4  http://images.amazon.com/images/P/0393045218.0...   \n",
       "\n",
       "                                         Image-URL-M  \\\n",
       "0  http://images.amazon.com/images/P/0195153448.0...   \n",
       "1  http://images.amazon.com/images/P/0002005018.0...   \n",
       "2  http://images.amazon.com/images/P/0060973129.0...   \n",
       "3  http://images.amazon.com/images/P/0374157065.0...   \n",
       "4  http://images.amazon.com/images/P/0393045218.0...   \n",
       "\n",
       "                                         Image-URL-L  \n",
       "0  http://images.amazon.com/images/P/0195153448.0...  \n",
       "1  http://images.amazon.com/images/P/0002005018.0...  \n",
       "2  http://images.amazon.com/images/P/0060973129.0...  \n",
       "3  http://images.amazon.com/images/P/0374157065.0...  \n",
       "4  http://images.amazon.com/images/P/0393045218.0...  "
      ]
     },
     "execution_count": 4,
     "metadata": {},
     "output_type": "execute_result"
    }
   ],
   "source": [
    "books.head()"
   ]
  },
  {
   "cell_type": "code",
   "execution_count": 5,
   "id": "ee7280f8",
   "metadata": {},
   "outputs": [
    {
     "data": {
      "text/html": [
       "<div>\n",
       "<style scoped>\n",
       "    .dataframe tbody tr th:only-of-type {\n",
       "        vertical-align: middle;\n",
       "    }\n",
       "\n",
       "    .dataframe tbody tr th {\n",
       "        vertical-align: top;\n",
       "    }\n",
       "\n",
       "    .dataframe thead th {\n",
       "        text-align: right;\n",
       "    }\n",
       "</style>\n",
       "<table border=\"1\" class=\"dataframe\">\n",
       "  <thead>\n",
       "    <tr style=\"text-align: right;\">\n",
       "      <th></th>\n",
       "      <th>User-ID</th>\n",
       "      <th>ISBN</th>\n",
       "      <th>Book-Rating</th>\n",
       "    </tr>\n",
       "  </thead>\n",
       "  <tbody>\n",
       "    <tr>\n",
       "      <th>0</th>\n",
       "      <td>276725</td>\n",
       "      <td>034545104X</td>\n",
       "      <td>0</td>\n",
       "    </tr>\n",
       "    <tr>\n",
       "      <th>1</th>\n",
       "      <td>276726</td>\n",
       "      <td>0155061224</td>\n",
       "      <td>5</td>\n",
       "    </tr>\n",
       "    <tr>\n",
       "      <th>2</th>\n",
       "      <td>276727</td>\n",
       "      <td>0446520802</td>\n",
       "      <td>0</td>\n",
       "    </tr>\n",
       "    <tr>\n",
       "      <th>3</th>\n",
       "      <td>276729</td>\n",
       "      <td>052165615X</td>\n",
       "      <td>3</td>\n",
       "    </tr>\n",
       "    <tr>\n",
       "      <th>4</th>\n",
       "      <td>276729</td>\n",
       "      <td>0521795028</td>\n",
       "      <td>6</td>\n",
       "    </tr>\n",
       "  </tbody>\n",
       "</table>\n",
       "</div>"
      ],
      "text/plain": [
       "   User-ID        ISBN  Book-Rating\n",
       "0   276725  034545104X            0\n",
       "1   276726  0155061224            5\n",
       "2   276727  0446520802            0\n",
       "3   276729  052165615X            3\n",
       "4   276729  0521795028            6"
      ]
     },
     "execution_count": 5,
     "metadata": {},
     "output_type": "execute_result"
    }
   ],
   "source": [
    "ratings.head()"
   ]
  },
  {
   "cell_type": "markdown",
   "id": "9fee2ea3",
   "metadata": {},
   "source": [
    "## Check Null Values"
   ]
  },
  {
   "cell_type": "code",
   "execution_count": 6,
   "id": "34c9f5ec",
   "metadata": {},
   "outputs": [
    {
     "data": {
      "text/plain": [
       "User-ID          0\n",
       "Location         0\n",
       "Age         110762\n",
       "dtype: int64"
      ]
     },
     "execution_count": 6,
     "metadata": {},
     "output_type": "execute_result"
    }
   ],
   "source": [
    "users.isnull().sum()"
   ]
  },
  {
   "cell_type": "markdown",
   "id": "1c814d86",
   "metadata": {},
   "source": [
    "**There is a lot of missing data in Age column. We don't need to clean it, bcs we'll only use this column for EDA, and not in recommender system.**"
   ]
  },
  {
   "cell_type": "code",
   "execution_count": 7,
   "id": "0f28a372",
   "metadata": {},
   "outputs": [
    {
     "data": {
      "text/plain": [
       "User-ID        0\n",
       "ISBN           0\n",
       "Book-Rating    0\n",
       "dtype: int64"
      ]
     },
     "execution_count": 7,
     "metadata": {},
     "output_type": "execute_result"
    }
   ],
   "source": [
    "ratings.isnull().sum()"
   ]
  },
  {
   "cell_type": "code",
   "execution_count": 8,
   "id": "e64c07e7",
   "metadata": {},
   "outputs": [
    {
     "data": {
      "text/plain": [
       "ISBN                   0\n",
       "Book-Title             0\n",
       "Book-Author            2\n",
       "Year-Of-Publication    0\n",
       "Publisher              2\n",
       "Image-URL-S            0\n",
       "Image-URL-M            0\n",
       "Image-URL-L            3\n",
       "dtype: int64"
      ]
     },
     "execution_count": 8,
     "metadata": {},
     "output_type": "execute_result"
    }
   ],
   "source": [
    "books.isnull().sum()"
   ]
  },
  {
   "cell_type": "markdown",
   "id": "aba4c019",
   "metadata": {},
   "source": [
    "**We can remove the missing value in Book-Author, Publisher, and Image-URL-L columns, bcs there are just 2-3 rows with missing values.**"
   ]
  },
  {
   "cell_type": "markdown",
   "id": "6ff5a875",
   "metadata": {},
   "source": [
    "## EDA"
   ]
  },
  {
   "cell_type": "code",
   "execution_count": 9,
   "id": "cfdeeacc",
   "metadata": {},
   "outputs": [
    {
     "data": {
      "text/html": [
       "<div>\n",
       "<style scoped>\n",
       "    .dataframe tbody tr th:only-of-type {\n",
       "        vertical-align: middle;\n",
       "    }\n",
       "\n",
       "    .dataframe tbody tr th {\n",
       "        vertical-align: top;\n",
       "    }\n",
       "\n",
       "    .dataframe thead th {\n",
       "        text-align: right;\n",
       "    }\n",
       "</style>\n",
       "<table border=\"1\" class=\"dataframe\">\n",
       "  <thead>\n",
       "    <tr style=\"text-align: right;\">\n",
       "      <th></th>\n",
       "      <th>ISBN</th>\n",
       "    </tr>\n",
       "    <tr>\n",
       "      <th>Book-Title</th>\n",
       "      <th></th>\n",
       "    </tr>\n",
       "  </thead>\n",
       "  <tbody>\n",
       "    <tr>\n",
       "      <th>Selected Poems</th>\n",
       "      <td>27</td>\n",
       "    </tr>\n",
       "    <tr>\n",
       "      <th>Little Women</th>\n",
       "      <td>24</td>\n",
       "    </tr>\n",
       "    <tr>\n",
       "      <th>Wuthering Heights</th>\n",
       "      <td>21</td>\n",
       "    </tr>\n",
       "    <tr>\n",
       "      <th>Dracula</th>\n",
       "      <td>20</td>\n",
       "    </tr>\n",
       "    <tr>\n",
       "      <th>Adventures of Huckleberry Finn</th>\n",
       "      <td>20</td>\n",
       "    </tr>\n",
       "    <tr>\n",
       "      <th>The Secret Garden</th>\n",
       "      <td>20</td>\n",
       "    </tr>\n",
       "    <tr>\n",
       "      <th>Jane Eyre</th>\n",
       "      <td>19</td>\n",
       "    </tr>\n",
       "    <tr>\n",
       "      <th>The Night Before Christmas</th>\n",
       "      <td>18</td>\n",
       "    </tr>\n",
       "    <tr>\n",
       "      <th>Pride and Prejudice</th>\n",
       "      <td>18</td>\n",
       "    </tr>\n",
       "    <tr>\n",
       "      <th>Great Expectations</th>\n",
       "      <td>17</td>\n",
       "    </tr>\n",
       "  </tbody>\n",
       "</table>\n",
       "</div>"
      ],
      "text/plain": [
       "                                ISBN\n",
       "Book-Title                          \n",
       "Selected Poems                    27\n",
       "Little Women                      24\n",
       "Wuthering Heights                 21\n",
       "Dracula                           20\n",
       "Adventures of Huckleberry Finn    20\n",
       "The Secret Garden                 20\n",
       "Jane Eyre                         19\n",
       "The Night Before Christmas        18\n",
       "Pride and Prejudice               18\n",
       "Great Expectations                17"
      ]
     },
     "execution_count": 9,
     "metadata": {},
     "output_type": "execute_result"
    }
   ],
   "source": [
    "# Check the number of ISBN\n",
    "books.groupby(\"Book-Title\").agg({\"ISBN\":\"count\"}).sort_values(\"ISBN\",ascending=False).head(10)"
   ]
  },
  {
   "cell_type": "markdown",
   "id": "4b2a2238",
   "metadata": {},
   "source": [
    "#### **Analisis tentang variabel `ISBN`**\n",
    "\n",
    "* There are multiple ISBN for the same Book Title.\n",
    "* Why? This might be due to multiple reasons such as: different editions, reprints/revisions version, different regional variants, etc."
   ]
  },
  {
   "cell_type": "code",
   "execution_count": 10,
   "id": "dd3d64e6",
   "metadata": {},
   "outputs": [
    {
     "data": {
      "text/plain": [
       "Age\n",
       "24.0     5687\n",
       "25.0     5618\n",
       "26.0     5547\n",
       "23.0     5456\n",
       "27.0     5383\n",
       "         ... \n",
       "168.0       1\n",
       "132.0       1\n",
       "159.0       1\n",
       "186.0       1\n",
       "127.0       1\n",
       "Name: count, Length: 165, dtype: int64"
      ]
     },
     "execution_count": 10,
     "metadata": {},
     "output_type": "execute_result"
    }
   ],
   "source": [
    "# Check how many users in a specific age group\n",
    "users[\"Age\"].value_counts()"
   ]
  },
  {
   "cell_type": "code",
   "execution_count": 11,
   "id": "c637b6d6",
   "metadata": {},
   "outputs": [
    {
     "name": "stderr",
     "output_type": "stream",
     "text": [
      "C:\\Users\\sabri\\AppData\\Local\\Temp\\ipykernel_20896\\1378023070.py:3: UserWarning: \n",
      "\n",
      "`distplot` is a deprecated function and will be removed in seaborn v0.14.0.\n",
      "\n",
      "Please adapt your code to use either `displot` (a figure-level function with\n",
      "similar flexibility) or `histplot` (an axes-level function for histograms).\n",
      "\n",
      "For a guide to updating your code to use the new functions, please see\n",
      "https://gist.github.com/mwaskom/de44147ed2974457ad6372750bbe5751\n",
      "\n",
      "  sns.distplot(x, axlabel=x.name)\n",
      "D:\\Apps\\anaconda3\\Lib\\site-packages\\seaborn\\_oldcore.py:1119: FutureWarning: use_inf_as_na option is deprecated and will be removed in a future version. Convert inf values to NaN before operating instead.\n",
      "  with pd.option_context('mode.use_inf_as_na', True):\n"
     ]
    },
    {
     "name": "stdout",
     "output_type": "stream",
     "text": [
      "Median: 32.0\n",
      "Mean: 34.75143370454978\n",
      "Std Dev: 14.428097382455773\n"
     ]
    },
    {
     "data": {
      "image/png": "[encoded data removed]",
      "text/plain": [
       "<Figure size 640x480 with 1 Axes>"
      ]
     },
     "metadata": {},
     "output_type": "display_data"
    }
   ],
   "source": [
    "#visualize age data\n",
    "x = users[\"Age\"]\n",
    "sns.distplot(x, axlabel=x.name)\n",
    "line1 = plt.axvline(x.mean(), color=\"k\", linestyle=\"--\", label = \"mean\")\n",
    "line2 = plt.axvline(np.median(x), color=\"r\", linestyle=\"--\", label = \"median\")\n",
    "first_legend = plt.legend(handles=[line1,line2], loc=1)\n",
    "plt.title(\"Distribution of Age Data\")\n",
    "print(\"Median:\", x.median())\n",
    "print(\"Mean:\", x.mean())\n",
    "print(\"Std Dev:\", x.std())\n",
    "plt.show()"
   ]
  },
  {
   "cell_type": "markdown",
   "id": "6f530beb",
   "metadata": {},
   "source": [
    "* There are users in the data whom age is MORE THAN 80, which is odd. We can consider this as irrelevant values and put aside from visualization.\n",
    "* We're also removing age under 10 years from visualization, so we can be sure that users that give ratings are old enough and mindfully rated the books."
   ]
  },
  {
   "cell_type": "code",
   "execution_count": 12,
   "id": "b831bcc5",
   "metadata": {},
   "outputs": [
    {
     "name": "stderr",
     "output_type": "stream",
     "text": [
      "C:\\Users\\sabri\\AppData\\Local\\Temp\\ipykernel_20896\\1049198559.py:6: UserWarning: \n",
      "\n",
      "`distplot` is a deprecated function and will be removed in seaborn v0.14.0.\n",
      "\n",
      "Please adapt your code to use either `displot` (a figure-level function with\n",
      "similar flexibility) or `histplot` (an axes-level function for histograms).\n",
      "\n",
      "For a guide to updating your code to use the new functions, please see\n",
      "https://gist.github.com/mwaskom/de44147ed2974457ad6372750bbe5751\n",
      "\n",
      "  sns.distplot(x, axlabel=x.name)\n",
      "D:\\Apps\\anaconda3\\Lib\\site-packages\\seaborn\\_oldcore.py:1119: FutureWarning: use_inf_as_na option is deprecated and will be removed in a future version. Convert inf values to NaN before operating instead.\n",
      "  with pd.option_context('mode.use_inf_as_na', True):\n"
     ]
    },
    {
     "name": "stdout",
     "output_type": "stream",
     "text": [
      "Median: 32.0\n",
      "Mean: 34.72132221667859\n",
      "Std Dev: 13.479361672423165\n"
     ]
    },
    {
     "data": {
      "image/png": "[encoded data removed]",
      "text/plain": [
       "<Figure size 640x480 with 1 Axes>"
      ]
     },
     "metadata": {},
     "output_type": "display_data"
    }
   ],
   "source": [
    "#remove users <=10 years & >80 years\n",
    "usersv = users[~((users[\"Age\"] <= 10) | (users[\"Age\"] > 80))]\n",
    "\n",
    "#visualize age data\n",
    "x = usersv[\"Age\"]\n",
    "sns.distplot(x, axlabel=x.name)\n",
    "line1 = plt.axvline(x.mean(), color=\"k\", linestyle=\"--\", label = \"mean\")\n",
    "line2 = plt.axvline(np.median(x), color=\"r\", linestyle=\"--\", label = \"median\")\n",
    "first_legend = plt.legend(handles=[line1,line2], loc=1)\n",
    "plt.title(\"Distribution of Age Data (Cleaned)\")\n",
    "print(\"Median:\", x.median())\n",
    "print(\"Mean:\", x.mean())\n",
    "print(\"Std Dev:\", x.std())\n",
    "plt.show()"
   ]
  },
  {
   "cell_type": "markdown",
   "id": "44083df7",
   "metadata": {},
   "source": [
    "#### **Analysis on `Age`**\n",
    "\n",
    "* From the visualization, we can see that most ages that give ratings are from a group of users between 20-35 yrs old.\n",
    "* Question:\n",
    "    * Why users with 20-35 yrs old are the most group of people whom rated books?\n",
    "    * Is this because they read more books than the other groups and actively giving ratings to the books they have read?"
   ]
  },
  {
   "cell_type": "code",
   "execution_count": 13,
   "id": "2e34fbec",
   "metadata": {},
   "outputs": [
    {
     "data": {
      "text/plain": [
       "Book-Rating\n",
       "0     716109\n",
       "8     103736\n",
       "10     78610\n",
       "7      76457\n",
       "9      67541\n",
       "5      50974\n",
       "6      36924\n",
       "4       8904\n",
       "3       5996\n",
       "2       2759\n",
       "1       1770\n",
       "Name: count, dtype: int64"
      ]
     },
     "execution_count": 13,
     "metadata": {},
     "output_type": "execute_result"
    }
   ],
   "source": [
    "# Check how many specific ratings group has been given\n",
    "ratings[\"Book-Rating\"].value_counts()"
   ]
  },
  {
   "cell_type": "code",
   "execution_count": 14,
   "id": "0319fbba",
   "metadata": {},
   "outputs": [
    {
     "data": {
      "image/png": "[encoded data removed]",
      "text/plain": [
       "<Figure size 640x480 with 1 Axes>"
      ]
     },
     "metadata": {},
     "output_type": "display_data"
    }
   ],
   "source": [
    "#visualize ratings data\n",
    "sns.barplot(x=ratings['Book-Rating'].value_counts().index,\n",
    "                 y=ratings['Book-Rating'].value_counts(normalize = True))\n",
    "plt.title(\"Distribution of Book Rating Data\")\n",
    "plt.show()"
   ]
  },
  {
   "cell_type": "markdown",
   "id": "d649f50d",
   "metadata": {},
   "source": [
    "* There are a LOT of books with 0 ratings. We can assume that 0 means that the books is just not get rated from users or consider it missing value, and not necessarily mean a \"bad book\".\n",
    "* So to get correct proportion of the visualization of book rating data, we should remove ratings with 0 value and only visualize data with ratings 1-10."
   ]
  },
  {
   "cell_type": "code",
   "execution_count": 15,
   "id": "b2da5df0",
   "metadata": {},
   "outputs": [
    {
     "data": {
      "image/png": "[encoded data removed]",
      "text/plain": [
       "<Figure size 640x480 with 1 Axes>"
      ]
     },
     "metadata": {},
     "output_type": "display_data"
    }
   ],
   "source": [
    "#remove ratings 0\n",
    "ratingsv = ratings[~(ratings[\"Book-Rating\"] == 0)]\n",
    "\n",
    "#visualize ratings data\n",
    "sns.barplot(x=ratingsv['Book-Rating'].value_counts().index,\n",
    "                 y=ratingsv['Book-Rating'].value_counts(normalize = True))\n",
    "plt.title(\"Distribution of Book Rating Data (Cleaned)\")\n",
    "plt.show()"
   ]
  },
  {
   "cell_type": "markdown",
   "id": "a5feacdb",
   "metadata": {},
   "source": [
    "#### **Analysis on `Book-Rating`**\n",
    "\n",
    "* We can see that most books are rated 8 (almost 25%), with top # of ratings are varied between 7-10.\n",
    "* Question:\n",
    "    * Why most books are rated 8?\n",
    "    * What books with most rated in the data? And which users groups who mostly rated that books?"
   ]
  },
  {
   "cell_type": "markdown",
   "id": "5a5b0f8c",
   "metadata": {},
   "source": [
    "## Merge Data"
   ]
  },
  {
   "cell_type": "code",
   "execution_count": 16,
   "id": "e542c7ff",
   "metadata": {},
   "outputs": [
    {
     "data": {
      "text/plain": [
       "(242135, 8)"
      ]
     },
     "execution_count": 16,
     "metadata": {},
     "output_type": "execute_result"
    }
   ],
   "source": [
    "new_books = books.drop_duplicates('Book-Title')\n",
    "new_books.shape"
   ]
  },
  {
   "cell_type": "code",
   "execution_count": 17,
   "id": "a28a6b8e",
   "metadata": {},
   "outputs": [
    {
     "data": {
      "text/html": [
       "<div>\n",
       "<style scoped>\n",
       "    .dataframe tbody tr th:only-of-type {\n",
       "        vertical-align: middle;\n",
       "    }\n",
       "\n",
       "    .dataframe tbody tr th {\n",
       "        vertical-align: top;\n",
       "    }\n",
       "\n",
       "    .dataframe thead th {\n",
       "        text-align: right;\n",
       "    }\n",
       "</style>\n",
       "<table border=\"1\" class=\"dataframe\">\n",
       "  <thead>\n",
       "    <tr style=\"text-align: right;\">\n",
       "      <th></th>\n",
       "      <th>ISBN</th>\n",
       "      <th>Book-Title</th>\n",
       "      <th>Book-Author</th>\n",
       "      <th>Year-Of-Publication</th>\n",
       "      <th>Publisher</th>\n",
       "      <th>Image-URL-S</th>\n",
       "      <th>Image-URL-M</th>\n",
       "      <th>Image-URL-L</th>\n",
       "      <th>User-ID</th>\n",
       "      <th>Book-Rating</th>\n",
       "    </tr>\n",
       "  </thead>\n",
       "  <tbody>\n",
       "    <tr>\n",
       "      <th>0</th>\n",
       "      <td>0195153448</td>\n",
       "      <td>Classical Mythology</td>\n",
       "      <td>Mark P. O. Morford</td>\n",
       "      <td>2002</td>\n",
       "      <td>Oxford University Press</td>\n",
       "      <td>http://images.amazon.com/images/P/0195153448.0...</td>\n",
       "      <td>http://images.amazon.com/images/P/0195153448.0...</td>\n",
       "      <td>http://images.amazon.com/images/P/0195153448.0...</td>\n",
       "      <td>2</td>\n",
       "      <td>0</td>\n",
       "    </tr>\n",
       "    <tr>\n",
       "      <th>1</th>\n",
       "      <td>0002005018</td>\n",
       "      <td>Clara Callan</td>\n",
       "      <td>Richard Bruce Wright</td>\n",
       "      <td>2001</td>\n",
       "      <td>HarperFlamingo Canada</td>\n",
       "      <td>http://images.amazon.com/images/P/0002005018.0...</td>\n",
       "      <td>http://images.amazon.com/images/P/0002005018.0...</td>\n",
       "      <td>http://images.amazon.com/images/P/0002005018.0...</td>\n",
       "      <td>8</td>\n",
       "      <td>5</td>\n",
       "    </tr>\n",
       "    <tr>\n",
       "      <th>2</th>\n",
       "      <td>0002005018</td>\n",
       "      <td>Clara Callan</td>\n",
       "      <td>Richard Bruce Wright</td>\n",
       "      <td>2001</td>\n",
       "      <td>HarperFlamingo Canada</td>\n",
       "      <td>http://images.amazon.com/images/P/0002005018.0...</td>\n",
       "      <td>http://images.amazon.com/images/P/0002005018.0...</td>\n",
       "      <td>http://images.amazon.com/images/P/0002005018.0...</td>\n",
       "      <td>11400</td>\n",
       "      <td>0</td>\n",
       "    </tr>\n",
       "    <tr>\n",
       "      <th>3</th>\n",
       "      <td>0002005018</td>\n",
       "      <td>Clara Callan</td>\n",
       "      <td>Richard Bruce Wright</td>\n",
       "      <td>2001</td>\n",
       "      <td>HarperFlamingo Canada</td>\n",
       "      <td>http://images.amazon.com/images/P/0002005018.0...</td>\n",
       "      <td>http://images.amazon.com/images/P/0002005018.0...</td>\n",
       "      <td>http://images.amazon.com/images/P/0002005018.0...</td>\n",
       "      <td>11676</td>\n",
       "      <td>8</td>\n",
       "    </tr>\n",
       "    <tr>\n",
       "      <th>4</th>\n",
       "      <td>0002005018</td>\n",
       "      <td>Clara Callan</td>\n",
       "      <td>Richard Bruce Wright</td>\n",
       "      <td>2001</td>\n",
       "      <td>HarperFlamingo Canada</td>\n",
       "      <td>http://images.amazon.com/images/P/0002005018.0...</td>\n",
       "      <td>http://images.amazon.com/images/P/0002005018.0...</td>\n",
       "      <td>http://images.amazon.com/images/P/0002005018.0...</td>\n",
       "      <td>41385</td>\n",
       "      <td>0</td>\n",
       "    </tr>\n",
       "  </tbody>\n",
       "</table>\n",
       "</div>"
      ],
      "text/plain": [
       "         ISBN           Book-Title           Book-Author Year-Of-Publication  \\\n",
       "0  0195153448  Classical Mythology    Mark P. O. Morford                2002   \n",
       "1  0002005018         Clara Callan  Richard Bruce Wright                2001   \n",
       "2  0002005018         Clara Callan  Richard Bruce Wright                2001   \n",
       "3  0002005018         Clara Callan  Richard Bruce Wright                2001   \n",
       "4  0002005018         Clara Callan  Richard Bruce Wright                2001   \n",
       "\n",
       "                 Publisher                                        Image-URL-S  \\\n",
       "0  Oxford University Press  http://images.amazon.com/images/P/0195153448.0...   \n",
       "1    HarperFlamingo Canada  http://images.amazon.com/images/P/0002005018.0...   \n",
       "2    HarperFlamingo Canada  http://images.amazon.com/images/P/0002005018.0...   \n",
       "3    HarperFlamingo Canada  http://images.amazon.com/images/P/0002005018.0...   \n",
       "4    HarperFlamingo Canada  http://images.amazon.com/images/P/0002005018.0...   \n",
       "\n",
       "                                         Image-URL-M  \\\n",
       "0  http://images.amazon.com/images/P/0195153448.0...   \n",
       "1  http://images.amazon.com/images/P/0002005018.0...   \n",
       "2  http://images.amazon.com/images/P/0002005018.0...   \n",
       "3  http://images.amazon.com/images/P/0002005018.0...   \n",
       "4  http://images.amazon.com/images/P/0002005018.0...   \n",
       "\n",
       "                                         Image-URL-L  User-ID  Book-Rating  \n",
       "0  http://images.amazon.com/images/P/0195153448.0...        2            0  \n",
       "1  http://images.amazon.com/images/P/0002005018.0...        8            5  \n",
       "2  http://images.amazon.com/images/P/0002005018.0...    11400            0  \n",
       "3  http://images.amazon.com/images/P/0002005018.0...    11676            8  \n",
       "4  http://images.amazon.com/images/P/0002005018.0...    41385            0  "
      ]
     },
     "execution_count": 17,
     "metadata": {},
     "output_type": "execute_result"
    }
   ],
   "source": [
    "books_ratings = new_books.merge(ratings,on='ISBN')\n",
    "books_ratings.head()"
   ]
  },
  {
   "cell_type": "markdown",
   "id": "1ce9a682",
   "metadata": {},
   "source": [
    "### Users Who Rated the Most"
   ]
  },
  {
   "cell_type": "code",
   "execution_count": 18,
   "id": "8f3e7691",
   "metadata": {},
   "outputs": [
    {
     "name": "stdout",
     "output_type": "stream",
     "text": [
      "         Book-Title Count   Age\n",
      "User-ID                        \n",
      "11676                9496   NaN\n",
      "198711               5918  62.0\n",
      "98391                5153  52.0\n",
      "153662               5091  44.0\n",
      "35859                4901   NaN\n",
      "212898               3725   NaN\n",
      "278418               3652   NaN\n",
      "76352                2796  58.0\n",
      "110973               2605  43.0\n",
      "16795                2589  47.0\n"
     ]
    }
   ],
   "source": [
    "# Merged books ratings with Age column\n",
    "merged_df = books_ratings.merge(users, on='User-ID')\n",
    "\n",
    "# Check on the top 10 users who rated the most\n",
    "result_df = merged_df.groupby(\"User-ID\").agg({\"Book-Title\": \"count\", \"Age\": \"first\"})\n",
    "result_df.columns = [\"Book-Title Count\", \"Age\"]\n",
    "\n",
    "# Sort the DataFrame by book title count in descending order\n",
    "top_10_users = result_df.sort_values(\"Book-Title Count\", ascending=False).head(10)\n",
    "\n",
    "# Display the top 10 users and their book titles along with their age\n",
    "print(top_10_users)"
   ]
  },
  {
   "cell_type": "markdown",
   "id": "8c1315af",
   "metadata": {},
   "source": [
    "### Most Rated Books"
   ]
  },
  {
   "cell_type": "code",
   "execution_count": 19,
   "id": "bec7cb89",
   "metadata": {},
   "outputs": [
    {
     "name": "stdout",
     "output_type": "stream",
     "text": [
      "                                                 Book-Rating Count  Avg Age\n",
      "Book-Title                                                                 \n",
      "Wild Animus                                                   2502     32.0\n",
      "The Lovely Bones: A Novel                                     1295     34.0\n",
      "The Da Vinci Code                                              883     35.0\n",
      "Divine Secrets of the Ya-Ya Sisterhood: A Novel                732     34.0\n",
      "The Red Tent (Bestselling Backlist)                            723     34.0\n"
     ]
    }
   ],
   "source": [
    "#Check on the Top 5 Books with most rated\n",
    "result_df = merged_df.groupby(\"Book-Title\").agg({\n",
    "    \"Book-Rating\": \"count\",\n",
    "    \"Age\": [\"median\"]\n",
    "})\n",
    "result_df.columns = [\"Book-Rating Count\", \"Avg Age\"]\n",
    "\n",
    "# Sort the DataFrame by book rating count in descending order\n",
    "top_commented_books = result_df.sort_values(\"Book-Rating Count\", ascending=False).head(5)\n",
    "\n",
    "# Display the top commented books along with the average and median age\n",
    "print(top_commented_books)"
   ]
  },
  {
   "cell_type": "markdown",
   "id": "7df5f64c",
   "metadata": {},
   "source": [
    "#### **Analysis on relationship between variable**\n",
    "\n",
    "* Based on the data of top 10 users who rated the most, we can see that most of them are users within >40 yrs old age group, with the top user has rated more than 11K book title.\n",
    "* While the rest of the users in the top 10 has rated more than 2.9K book title.\n",
    "* On the other hand, book with the most rated are \"Wild Animus\" with a total of 2502 ratings. While the other top 5 books has more than 800 ratings.\n",
    "* We can also see that the Average age that rated these top 5 books are users within 30-40 yrs old age group."
   ]
  },
  {
   "cell_type": "markdown",
   "id": "45033d57",
   "metadata": {},
   "source": [
    "## Recommender System"
   ]
  },
  {
   "cell_type": "code",
   "execution_count": 20,
   "id": "3a6cd590",
   "metadata": {},
   "outputs": [
    {
     "data": {
      "text/plain": [
       "ISBN                   0\n",
       "Book-Title             0\n",
       "Book-Author            2\n",
       "Year-Of-Publication    0\n",
       "Publisher              1\n",
       "Image-URL-S            0\n",
       "Image-URL-M            0\n",
       "Image-URL-L            4\n",
       "User-ID                0\n",
       "Book-Rating            0\n",
       "dtype: int64"
      ]
     },
     "execution_count": 20,
     "metadata": {},
     "output_type": "execute_result"
    }
   ],
   "source": [
    "books_ratings.isna().sum()"
   ]
  },
  {
   "cell_type": "code",
   "execution_count": 21,
   "id": "36fe3280",
   "metadata": {},
   "outputs": [
    {
     "data": {
      "text/plain": [
       "ISBN                   0\n",
       "Book-Title             0\n",
       "Book-Author            0\n",
       "Year-Of-Publication    0\n",
       "Publisher              0\n",
       "Image-URL-S            0\n",
       "Image-URL-M            0\n",
       "Image-URL-L            0\n",
       "User-ID                0\n",
       "Book-Rating            0\n",
       "dtype: int64"
      ]
     },
     "execution_count": 21,
     "metadata": {},
     "output_type": "execute_result"
    }
   ],
   "source": [
    "# Since the # of values with NA is very small, we can just remove it from the data\n",
    "books_ratings.dropna(inplace = True)\n",
    "books_ratings.isna().sum()"
   ]
  },
  {
   "cell_type": "code",
   "execution_count": 22,
   "id": "e45b0c23",
   "metadata": {},
   "outputs": [
    {
     "data": {
      "text/html": [
       "<div>\n",
       "<style scoped>\n",
       "    .dataframe tbody tr th:only-of-type {\n",
       "        vertical-align: middle;\n",
       "    }\n",
       "\n",
       "    .dataframe tbody tr th {\n",
       "        vertical-align: top;\n",
       "    }\n",
       "\n",
       "    .dataframe thead th {\n",
       "        text-align: right;\n",
       "    }\n",
       "</style>\n",
       "<table border=\"1\" class=\"dataframe\">\n",
       "  <thead>\n",
       "    <tr style=\"text-align: right;\">\n",
       "      <th></th>\n",
       "      <th>ISBN</th>\n",
       "      <th>Book-Title</th>\n",
       "      <th>Book-Author</th>\n",
       "      <th>Year-Of-Publication</th>\n",
       "      <th>Publisher</th>\n",
       "      <th>Image-URL-S</th>\n",
       "      <th>Image-URL-M</th>\n",
       "      <th>Image-URL-L</th>\n",
       "      <th>User-ID</th>\n",
       "      <th>Book-Rating</th>\n",
       "    </tr>\n",
       "  </thead>\n",
       "  <tbody>\n",
       "  </tbody>\n",
       "</table>\n",
       "</div>"
      ],
      "text/plain": [
       "Empty DataFrame\n",
       "Columns: [ISBN, Book-Title, Book-Author, Year-Of-Publication, Publisher, Image-URL-S, Image-URL-M, Image-URL-L, User-ID, Book-Rating]\n",
       "Index: []"
      ]
     },
     "execution_count": 22,
     "metadata": {},
     "output_type": "execute_result"
    }
   ],
   "source": [
    "# Check duplicate duplicate ratings from the same user\n",
    "books_ratings[books_ratings[['User-ID', 'ISBN']].duplicated()]"
   ]
  },
  {
   "cell_type": "markdown",
   "id": "25a94613",
   "metadata": {},
   "source": [
    "Since there are no duplicate, we move to the next step"
   ]
  },
  {
   "cell_type": "code",
   "execution_count": 23,
   "id": "5c0041c6",
   "metadata": {},
   "outputs": [],
   "source": [
    "book_dict1 = {}\n",
    "book_dict2 = {}\n",
    "for x, y in zip(books_ratings['ISBN'], books_ratings['Book-Title']):\n",
    "    if x not in book_dict1.keys():\n",
    "        book_dict1[x] = y\n",
    "        book_dict2[y] = x"
   ]
  },
  {
   "cell_type": "code",
   "execution_count": 24,
   "id": "b425254e",
   "metadata": {},
   "outputs": [
    {
     "data": {
      "text/html": [
       "<div>\n",
       "<style scoped>\n",
       "    .dataframe tbody tr th:only-of-type {\n",
       "        vertical-align: middle;\n",
       "    }\n",
       "\n",
       "    .dataframe tbody tr th {\n",
       "        vertical-align: top;\n",
       "    }\n",
       "\n",
       "    .dataframe thead th {\n",
       "        text-align: right;\n",
       "    }\n",
       "</style>\n",
       "<table border=\"1\" class=\"dataframe\">\n",
       "  <thead>\n",
       "    <tr style=\"text-align: right;\">\n",
       "      <th></th>\n",
       "      <th>ISBN</th>\n",
       "      <th>Book-Title</th>\n",
       "      <th>Book-Author</th>\n",
       "      <th>Year-Of-Publication</th>\n",
       "      <th>Publisher</th>\n",
       "      <th>Image-URL-S</th>\n",
       "      <th>Image-URL-M</th>\n",
       "      <th>Image-URL-L</th>\n",
       "      <th>User-ID</th>\n",
       "      <th>Book-Rating</th>\n",
       "    </tr>\n",
       "  </thead>\n",
       "  <tbody>\n",
       "    <tr>\n",
       "      <th>0</th>\n",
       "      <td>0195153448</td>\n",
       "      <td>Classical Mythology</td>\n",
       "      <td>Mark P. O. Morford</td>\n",
       "      <td>2002</td>\n",
       "      <td>Oxford University Press</td>\n",
       "      <td>http://images.amazon.com/images/P/0195153448.0...</td>\n",
       "      <td>http://images.amazon.com/images/P/0195153448.0...</td>\n",
       "      <td>http://images.amazon.com/images/P/0195153448.0...</td>\n",
       "      <td>2</td>\n",
       "      <td>0</td>\n",
       "    </tr>\n",
       "    <tr>\n",
       "      <th>1</th>\n",
       "      <td>0002005018</td>\n",
       "      <td>Clara Callan</td>\n",
       "      <td>Richard Bruce Wright</td>\n",
       "      <td>2001</td>\n",
       "      <td>HarperFlamingo Canada</td>\n",
       "      <td>http://images.amazon.com/images/P/0002005018.0...</td>\n",
       "      <td>http://images.amazon.com/images/P/0002005018.0...</td>\n",
       "      <td>http://images.amazon.com/images/P/0002005018.0...</td>\n",
       "      <td>8</td>\n",
       "      <td>5</td>\n",
       "    </tr>\n",
       "    <tr>\n",
       "      <th>2</th>\n",
       "      <td>0002005018</td>\n",
       "      <td>Clara Callan</td>\n",
       "      <td>Richard Bruce Wright</td>\n",
       "      <td>2001</td>\n",
       "      <td>HarperFlamingo Canada</td>\n",
       "      <td>http://images.amazon.com/images/P/0002005018.0...</td>\n",
       "      <td>http://images.amazon.com/images/P/0002005018.0...</td>\n",
       "      <td>http://images.amazon.com/images/P/0002005018.0...</td>\n",
       "      <td>11400</td>\n",
       "      <td>0</td>\n",
       "    </tr>\n",
       "    <tr>\n",
       "      <th>3</th>\n",
       "      <td>0002005018</td>\n",
       "      <td>Clara Callan</td>\n",
       "      <td>Richard Bruce Wright</td>\n",
       "      <td>2001</td>\n",
       "      <td>HarperFlamingo Canada</td>\n",
       "      <td>http://images.amazon.com/images/P/0002005018.0...</td>\n",
       "      <td>http://images.amazon.com/images/P/0002005018.0...</td>\n",
       "      <td>http://images.amazon.com/images/P/0002005018.0...</td>\n",
       "      <td>11676</td>\n",
       "      <td>8</td>\n",
       "    </tr>\n",
       "    <tr>\n",
       "      <th>4</th>\n",
       "      <td>0002005018</td>\n",
       "      <td>Clara Callan</td>\n",
       "      <td>Richard Bruce Wright</td>\n",
       "      <td>2001</td>\n",
       "      <td>HarperFlamingo Canada</td>\n",
       "      <td>http://images.amazon.com/images/P/0002005018.0...</td>\n",
       "      <td>http://images.amazon.com/images/P/0002005018.0...</td>\n",
       "      <td>http://images.amazon.com/images/P/0002005018.0...</td>\n",
       "      <td>41385</td>\n",
       "      <td>0</td>\n",
       "    </tr>\n",
       "  </tbody>\n",
       "</table>\n",
       "</div>"
      ],
      "text/plain": [
       "         ISBN           Book-Title           Book-Author Year-Of-Publication  \\\n",
       "0  0195153448  Classical Mythology    Mark P. O. Morford                2002   \n",
       "1  0002005018         Clara Callan  Richard Bruce Wright                2001   \n",
       "2  0002005018         Clara Callan  Richard Bruce Wright                2001   \n",
       "3  0002005018         Clara Callan  Richard Bruce Wright                2001   \n",
       "4  0002005018         Clara Callan  Richard Bruce Wright                2001   \n",
       "\n",
       "                 Publisher                                        Image-URL-S  \\\n",
       "0  Oxford University Press  http://images.amazon.com/images/P/0195153448.0...   \n",
       "1    HarperFlamingo Canada  http://images.amazon.com/images/P/0002005018.0...   \n",
       "2    HarperFlamingo Canada  http://images.amazon.com/images/P/0002005018.0...   \n",
       "3    HarperFlamingo Canada  http://images.amazon.com/images/P/0002005018.0...   \n",
       "4    HarperFlamingo Canada  http://images.amazon.com/images/P/0002005018.0...   \n",
       "\n",
       "                                         Image-URL-M  \\\n",
       "0  http://images.amazon.com/images/P/0195153448.0...   \n",
       "1  http://images.amazon.com/images/P/0002005018.0...   \n",
       "2  http://images.amazon.com/images/P/0002005018.0...   \n",
       "3  http://images.amazon.com/images/P/0002005018.0...   \n",
       "4  http://images.amazon.com/images/P/0002005018.0...   \n",
       "\n",
       "                                         Image-URL-L  User-ID  Book-Rating  \n",
       "0  http://images.amazon.com/images/P/0195153448.0...        2            0  \n",
       "1  http://images.amazon.com/images/P/0002005018.0...        8            5  \n",
       "2  http://images.amazon.com/images/P/0002005018.0...    11400            0  \n",
       "3  http://images.amazon.com/images/P/0002005018.0...    11676            8  \n",
       "4  http://images.amazon.com/images/P/0002005018.0...    41385            0  "
      ]
     },
     "execution_count": 24,
     "metadata": {},
     "output_type": "execute_result"
    }
   ],
   "source": [
    "books_ratings.head()"
   ]
  },
  {
   "cell_type": "markdown",
   "id": "963a24ec",
   "metadata": {},
   "source": [
    "## Content-Based Recommendation (Popular Books)"
   ]
  },
  {
   "cell_type": "markdown",
   "id": "d0879249",
   "metadata": {},
   "source": [
    "Create custom function book recommendation based on avg highest rating with 3 argument:\n",
    "1. number of recommended books\n",
    "2. rating count limit that will be put in the recommendation\n",
    "3. dataset (can be transform)\n",
    "\n",
    "Print 50 books recommendation that has been rated by min. 100 users"
   ]
  },
  {
   "cell_type": "code",
   "execution_count": 25,
   "id": "317552f6",
   "metadata": {},
   "outputs": [
    {
     "data": {
      "text/plain": [
       "ISBN\n",
       "0000913154    1\n",
       "0001010565    2\n",
       "0001046438    1\n",
       "0001046713    1\n",
       "000104687X    1\n",
       "             ..\n",
       "B0001GDNCK    1\n",
       "B0001I1KOG    1\n",
       "B00029DGGO    1\n",
       "B0002JV9PY    1\n",
       "B0002K6K8O    1\n",
       "Name: User-ID, Length: 241055, dtype: int64"
      ]
     },
     "execution_count": 25,
     "metadata": {},
     "output_type": "execute_result"
    }
   ],
   "source": [
    "books_ratings.groupby('ISBN').count()['User-ID']"
   ]
  },
  {
   "cell_type": "code",
   "execution_count": 26,
   "id": "8fa53d3e",
   "metadata": {},
   "outputs": [
    {
     "data": {
      "text/plain": [
       "ISBN\n",
       "0000913154     8.0\n",
       "0001010565     0.0\n",
       "0001046438     9.0\n",
       "0001046713     0.0\n",
       "000104687X     6.0\n",
       "              ... \n",
       "B0001GDNCK     0.0\n",
       "B0001I1KOG    10.0\n",
       "B00029DGGO     0.0\n",
       "B0002JV9PY     0.0\n",
       "B0002K6K8O     0.0\n",
       "Name: Book-Rating, Length: 241055, dtype: float64"
      ]
     },
     "execution_count": 26,
     "metadata": {},
     "output_type": "execute_result"
    }
   ],
   "source": [
    "books_ratings.groupby('ISBN').mean(numeric_only=True)['Book-Rating']"
   ]
  },
  {
   "cell_type": "code",
   "execution_count": 27,
   "id": "bb2d63f8",
   "metadata": {},
   "outputs": [],
   "source": [
    "popular = pd.DataFrame({'count':books_ratings.groupby('ISBN').count()['User-ID'],\n",
    "                       'rating':books_ratings.groupby('ISBN').mean(numeric_only=True)['Book-Rating']})"
   ]
  },
  {
   "cell_type": "code",
   "execution_count": 28,
   "id": "dc1d0ff0",
   "metadata": {},
   "outputs": [
    {
     "data": {
      "text/html": [
       "<div>\n",
       "<style scoped>\n",
       "    .dataframe tbody tr th:only-of-type {\n",
       "        vertical-align: middle;\n",
       "    }\n",
       "\n",
       "    .dataframe tbody tr th {\n",
       "        vertical-align: top;\n",
       "    }\n",
       "\n",
       "    .dataframe thead th {\n",
       "        text-align: right;\n",
       "    }\n",
       "</style>\n",
       "<table border=\"1\" class=\"dataframe\">\n",
       "  <thead>\n",
       "    <tr style=\"text-align: right;\">\n",
       "      <th></th>\n",
       "      <th>count</th>\n",
       "      <th>rating</th>\n",
       "    </tr>\n",
       "    <tr>\n",
       "      <th>ISBN</th>\n",
       "      <th></th>\n",
       "      <th></th>\n",
       "    </tr>\n",
       "  </thead>\n",
       "  <tbody>\n",
       "    <tr>\n",
       "      <th>0000913154</th>\n",
       "      <td>1</td>\n",
       "      <td>8.0</td>\n",
       "    </tr>\n",
       "    <tr>\n",
       "      <th>0001010565</th>\n",
       "      <td>2</td>\n",
       "      <td>0.0</td>\n",
       "    </tr>\n",
       "    <tr>\n",
       "      <th>0001046438</th>\n",
       "      <td>1</td>\n",
       "      <td>9.0</td>\n",
       "    </tr>\n",
       "    <tr>\n",
       "      <th>0001046713</th>\n",
       "      <td>1</td>\n",
       "      <td>0.0</td>\n",
       "    </tr>\n",
       "    <tr>\n",
       "      <th>000104687X</th>\n",
       "      <td>1</td>\n",
       "      <td>6.0</td>\n",
       "    </tr>\n",
       "  </tbody>\n",
       "</table>\n",
       "</div>"
      ],
      "text/plain": [
       "            count  rating\n",
       "ISBN                     \n",
       "0000913154      1     8.0\n",
       "0001010565      2     0.0\n",
       "0001046438      1     9.0\n",
       "0001046713      1     0.0\n",
       "000104687X      1     6.0"
      ]
     },
     "execution_count": 28,
     "metadata": {},
     "output_type": "execute_result"
    }
   ],
   "source": [
    "popular.head()"
   ]
  },
  {
   "cell_type": "code",
   "execution_count": 29,
   "id": "f3b42129",
   "metadata": {},
   "outputs": [],
   "source": [
    "def popular_recom(k, count, dataset):\n",
    "    a = []\n",
    "    popular2 = dataset[dataset['count']>=count].sort_values('rating', ascending=False)\n",
    "    for x in popular2.index[:k]:\n",
    "        a.append(book_dict1[x])\n",
    "    return a"
   ]
  },
  {
   "cell_type": "code",
   "execution_count": 30,
   "id": "69c2acf2",
   "metadata": {},
   "outputs": [
    {
     "data": {
      "text/plain": [
       "['Harry Potter and the Goblet of Fire (Book 4)',\n",
       " 'Harry Potter and the Prisoner of Azkaban (Book 3)',\n",
       " \"Harry Potter and the Sorcerer's Stone (Book 1)\",\n",
       " 'Harry Potter and the Order of the Phoenix (Book 5)',\n",
       " 'The Perks of Being a Wallflower',\n",
       " 'The Hobbit : The Enchanting Prelude to The Lord of the Rings',\n",
       " 'To Kill a Mockingbird',\n",
       " 'The Giver (21st Century Reference)',\n",
       " 'Ishmael: An Adventure of the Mind and Spirit',\n",
       " \"Harry Potter and the Sorcerer's Stone (Harry Potter (Paperback))\",\n",
       " 'Interpreter of Maladies',\n",
       " 'Anne Frank: The Diary of a Young Girl',\n",
       " \"Charlotte's Web (Trophy Newbery)\",\n",
       " 'The Other Boleyn Girl',\n",
       " 'Harry Potter and the Chamber of Secrets (Book 2)',\n",
       " 'Animal Farm',\n",
       " 'The Last Juror',\n",
       " 'The Da Vinci Code',\n",
       " 'The Catcher in the Rye',\n",
       " 'Dragonfly in Amber',\n",
       " 'Stranger in a Strange Land (Remembering Tomorrow)',\n",
       " '1984',\n",
       " 'Dune (Remembering Tomorrow)',\n",
       " 'A Wrinkle In Time',\n",
       " \"East of Eden (Oprah's Book Club)\",\n",
       " 'The Five People You Meet in Heaven',\n",
       " 'The Stand: Complete and Uncut',\n",
       " 'The Fellowship of the Ring (The Lord of the Rings, Part 1)',\n",
       " 'Coraline',\n",
       " 'Life of Pi',\n",
       " 'The World According to Garp',\n",
       " 'The Lovely Bones: A Novel',\n",
       " 'Prodigal Summer: A Novel',\n",
       " 'Naked',\n",
       " 'Where the Red Fern Grows',\n",
       " \"Tuesdays with Morrie: An Old Man, a Young Man, and Life's Greatest Lesson\",\n",
       " 'Siddhartha',\n",
       " 'Their Eyes Were Watching God: A Novel',\n",
       " 'The Valley of Horses',\n",
       " 'Stupid White Men ...and Other Sorry Excuses for the State of the Nation!',\n",
       " 'Night',\n",
       " 'The Red Tent (Bestselling Backlist)',\n",
       " 'Year of Wonders',\n",
       " 'Memoirs of a Geisha Uk',\n",
       " 'The Tao of Pooh',\n",
       " 'The Two Towers (The Lord of the Rings, Part 2)',\n",
       " 'Holes (Yearling Newbery)',\n",
       " 'Neverwhere',\n",
       " 'Skipping Christmas',\n",
       " 'Atlas Shrugged']"
      ]
     },
     "execution_count": 30,
     "metadata": {},
     "output_type": "execute_result"
    }
   ],
   "source": [
    "popular_recom(50, 100, popular)"
   ]
  },
  {
   "cell_type": "markdown",
   "id": "3dfbb930",
   "metadata": {},
   "source": [
    "## User-Based Recommendation (Collaborative Filtering)"
   ]
  },
  {
   "cell_type": "markdown",
   "id": "ad89b05b",
   "metadata": {},
   "source": [
    "Create another function books recommendation, but this time using **Collaborative Filtering** model.\n",
    "\n",
    "We will narrow down the data to users who have rated numerous books and then further filter based on the most frequently rated books."
   ]
  },
  {
   "cell_type": "code",
   "execution_count": 31,
   "id": "367a418c",
   "metadata": {},
   "outputs": [
    {
     "data": {
      "text/html": [
       "<div>\n",
       "<style scoped>\n",
       "    .dataframe tbody tr th:only-of-type {\n",
       "        vertical-align: middle;\n",
       "    }\n",
       "\n",
       "    .dataframe tbody tr th {\n",
       "        vertical-align: top;\n",
       "    }\n",
       "\n",
       "    .dataframe thead th {\n",
       "        text-align: right;\n",
       "    }\n",
       "</style>\n",
       "<table border=\"1\" class=\"dataframe\">\n",
       "  <thead>\n",
       "    <tr style=\"text-align: right;\">\n",
       "      <th></th>\n",
       "      <th>User-ID</th>\n",
       "      <th>Book-Rating</th>\n",
       "      <th>ISBN</th>\n",
       "      <th>Book-Title</th>\n",
       "      <th>Book-Author</th>\n",
       "      <th>Year-Of-Publication</th>\n",
       "      <th>Publisher</th>\n",
       "    </tr>\n",
       "  </thead>\n",
       "  <tbody>\n",
       "    <tr>\n",
       "      <th>0</th>\n",
       "      <td>2</td>\n",
       "      <td>0</td>\n",
       "      <td>0195153448</td>\n",
       "      <td>Classical Mythology</td>\n",
       "      <td>Mark P. O. Morford</td>\n",
       "      <td>2002</td>\n",
       "      <td>Oxford University Press</td>\n",
       "    </tr>\n",
       "    <tr>\n",
       "      <th>1</th>\n",
       "      <td>8</td>\n",
       "      <td>5</td>\n",
       "      <td>0002005018</td>\n",
       "      <td>Clara Callan</td>\n",
       "      <td>Richard Bruce Wright</td>\n",
       "      <td>2001</td>\n",
       "      <td>HarperFlamingo Canada</td>\n",
       "    </tr>\n",
       "    <tr>\n",
       "      <th>2</th>\n",
       "      <td>11400</td>\n",
       "      <td>0</td>\n",
       "      <td>0002005018</td>\n",
       "      <td>Clara Callan</td>\n",
       "      <td>Richard Bruce Wright</td>\n",
       "      <td>2001</td>\n",
       "      <td>HarperFlamingo Canada</td>\n",
       "    </tr>\n",
       "    <tr>\n",
       "      <th>3</th>\n",
       "      <td>11676</td>\n",
       "      <td>8</td>\n",
       "      <td>0002005018</td>\n",
       "      <td>Clara Callan</td>\n",
       "      <td>Richard Bruce Wright</td>\n",
       "      <td>2001</td>\n",
       "      <td>HarperFlamingo Canada</td>\n",
       "    </tr>\n",
       "    <tr>\n",
       "      <th>4</th>\n",
       "      <td>41385</td>\n",
       "      <td>0</td>\n",
       "      <td>0002005018</td>\n",
       "      <td>Clara Callan</td>\n",
       "      <td>Richard Bruce Wright</td>\n",
       "      <td>2001</td>\n",
       "      <td>HarperFlamingo Canada</td>\n",
       "    </tr>\n",
       "  </tbody>\n",
       "</table>\n",
       "</div>"
      ],
      "text/plain": [
       "   User-ID  Book-Rating        ISBN           Book-Title  \\\n",
       "0        2            0  0195153448  Classical Mythology   \n",
       "1        8            5  0002005018         Clara Callan   \n",
       "2    11400            0  0002005018         Clara Callan   \n",
       "3    11676            8  0002005018         Clara Callan   \n",
       "4    41385            0  0002005018         Clara Callan   \n",
       "\n",
       "            Book-Author Year-Of-Publication                Publisher  \n",
       "0    Mark P. O. Morford                2002  Oxford University Press  \n",
       "1  Richard Bruce Wright                2001    HarperFlamingo Canada  \n",
       "2  Richard Bruce Wright                2001    HarperFlamingo Canada  \n",
       "3  Richard Bruce Wright                2001    HarperFlamingo Canada  \n",
       "4  Richard Bruce Wright                2001    HarperFlamingo Canada  "
      ]
     },
     "execution_count": 31,
     "metadata": {},
     "output_type": "execute_result"
    }
   ],
   "source": [
    "br2 = books_ratings[['User-ID', 'Book-Rating', 'ISBN', 'Book-Title', 'Book-Author', 'Year-Of-Publication', 'Publisher']]\n",
    "br2.head()"
   ]
  },
  {
   "cell_type": "code",
   "execution_count": 32,
   "id": "0a3a8189",
   "metadata": {},
   "outputs": [
    {
     "name": "stdout",
     "output_type": "stream",
     "text": [
      "<class 'pandas.core.frame.DataFrame'>\n",
      "Index: 883072 entries, 0 to 883078\n",
      "Data columns (total 7 columns):\n",
      " #   Column               Non-Null Count   Dtype \n",
      "---  ------               --------------   ----- \n",
      " 0   User-ID              883072 non-null  int64 \n",
      " 1   Book-Rating          883072 non-null  int64 \n",
      " 2   ISBN                 883072 non-null  object\n",
      " 3   Book-Title           883072 non-null  object\n",
      " 4   Book-Author          883072 non-null  object\n",
      " 5   Year-Of-Publication  883072 non-null  object\n",
      " 6   Publisher            883072 non-null  object\n",
      "dtypes: int64(2), object(5)\n",
      "memory usage: 53.9+ MB\n"
     ]
    }
   ],
   "source": [
    "br2.info()"
   ]
  },
  {
   "cell_type": "code",
   "execution_count": 33,
   "id": "c3b1c0eb",
   "metadata": {},
   "outputs": [
    {
     "data": {
      "text/plain": [
       "pandas.core.indexes.base.Index"
      ]
     },
     "execution_count": 33,
     "metadata": {},
     "output_type": "execute_result"
    }
   ],
   "source": [
    "x = br2.groupby('User-ID').count()['Book-Rating'] > 100\n",
    "knowledgeable_users = x[x].index\n",
    "type(knowledgeable_users)"
   ]
  },
  {
   "cell_type": "code",
   "execution_count": 34,
   "id": "67476fce",
   "metadata": {},
   "outputs": [
    {
     "data": {
      "text/html": [
       "<div>\n",
       "<style scoped>\n",
       "    .dataframe tbody tr th:only-of-type {\n",
       "        vertical-align: middle;\n",
       "    }\n",
       "\n",
       "    .dataframe tbody tr th {\n",
       "        vertical-align: top;\n",
       "    }\n",
       "\n",
       "    .dataframe thead th {\n",
       "        text-align: right;\n",
       "    }\n",
       "</style>\n",
       "<table border=\"1\" class=\"dataframe\">\n",
       "  <thead>\n",
       "    <tr style=\"text-align: right;\">\n",
       "      <th></th>\n",
       "      <th>User-ID</th>\n",
       "      <th>Book-Rating</th>\n",
       "      <th>ISBN</th>\n",
       "      <th>Book-Title</th>\n",
       "      <th>Book-Author</th>\n",
       "      <th>Year-Of-Publication</th>\n",
       "      <th>Publisher</th>\n",
       "    </tr>\n",
       "  </thead>\n",
       "  <tbody>\n",
       "    <tr>\n",
       "      <th>3</th>\n",
       "      <td>11676</td>\n",
       "      <td>8</td>\n",
       "      <td>0002005018</td>\n",
       "      <td>Clara Callan</td>\n",
       "      <td>Richard Bruce Wright</td>\n",
       "      <td>2001</td>\n",
       "      <td>HarperFlamingo Canada</td>\n",
       "    </tr>\n",
       "    <tr>\n",
       "      <th>6</th>\n",
       "      <td>85526</td>\n",
       "      <td>0</td>\n",
       "      <td>0002005018</td>\n",
       "      <td>Clara Callan</td>\n",
       "      <td>Richard Bruce Wright</td>\n",
       "      <td>2001</td>\n",
       "      <td>HarperFlamingo Canada</td>\n",
       "    </tr>\n",
       "    <tr>\n",
       "      <th>7</th>\n",
       "      <td>96054</td>\n",
       "      <td>0</td>\n",
       "      <td>0002005018</td>\n",
       "      <td>Clara Callan</td>\n",
       "      <td>Richard Bruce Wright</td>\n",
       "      <td>2001</td>\n",
       "      <td>HarperFlamingo Canada</td>\n",
       "    </tr>\n",
       "    <tr>\n",
       "      <th>10</th>\n",
       "      <td>177458</td>\n",
       "      <td>0</td>\n",
       "      <td>0002005018</td>\n",
       "      <td>Clara Callan</td>\n",
       "      <td>Richard Bruce Wright</td>\n",
       "      <td>2001</td>\n",
       "      <td>HarperFlamingo Canada</td>\n",
       "    </tr>\n",
       "    <tr>\n",
       "      <th>21</th>\n",
       "      <td>110912</td>\n",
       "      <td>10</td>\n",
       "      <td>0374157065</td>\n",
       "      <td>Flu: The Story of the Great Influenza Pandemic...</td>\n",
       "      <td>Gina Bari Kolata</td>\n",
       "      <td>1999</td>\n",
       "      <td>Farrar Straus Giroux</td>\n",
       "    </tr>\n",
       "  </tbody>\n",
       "</table>\n",
       "</div>"
      ],
      "text/plain": [
       "    User-ID  Book-Rating        ISBN  \\\n",
       "3     11676            8  0002005018   \n",
       "6     85526            0  0002005018   \n",
       "7     96054            0  0002005018   \n",
       "10   177458            0  0002005018   \n",
       "21   110912           10  0374157065   \n",
       "\n",
       "                                           Book-Title           Book-Author  \\\n",
       "3                                        Clara Callan  Richard Bruce Wright   \n",
       "6                                        Clara Callan  Richard Bruce Wright   \n",
       "7                                        Clara Callan  Richard Bruce Wright   \n",
       "10                                       Clara Callan  Richard Bruce Wright   \n",
       "21  Flu: The Story of the Great Influenza Pandemic...      Gina Bari Kolata   \n",
       "\n",
       "   Year-Of-Publication              Publisher  \n",
       "3                 2001  HarperFlamingo Canada  \n",
       "6                 2001  HarperFlamingo Canada  \n",
       "7                 2001  HarperFlamingo Canada  \n",
       "10                2001  HarperFlamingo Canada  \n",
       "21                1999   Farrar Straus Giroux  "
      ]
     },
     "execution_count": 34,
     "metadata": {},
     "output_type": "execute_result"
    }
   ],
   "source": [
    "filtered_users = br2[br2['User-ID'].isin(knowledgeable_users)]\n",
    "filtered_users.head()"
   ]
  },
  {
   "cell_type": "code",
   "execution_count": 35,
   "id": "cedc8215",
   "metadata": {},
   "outputs": [
    {
     "data": {
      "text/plain": [
       "pandas.core.indexes.base.Index"
      ]
     },
     "execution_count": 35,
     "metadata": {},
     "output_type": "execute_result"
    }
   ],
   "source": [
    "y = filtered_users.groupby('Book-Title').count()['Book-Rating'] >= 50\n",
    "famous_books = y[y].index\n",
    "type(famous_books)"
   ]
  },
  {
   "cell_type": "code",
   "execution_count": 36,
   "id": "b75db215",
   "metadata": {},
   "outputs": [
    {
     "data": {
      "text/html": [
       "<div>\n",
       "<style scoped>\n",
       "    .dataframe tbody tr th:only-of-type {\n",
       "        vertical-align: middle;\n",
       "    }\n",
       "\n",
       "    .dataframe tbody tr th {\n",
       "        vertical-align: top;\n",
       "    }\n",
       "\n",
       "    .dataframe thead th {\n",
       "        text-align: right;\n",
       "    }\n",
       "</style>\n",
       "<table border=\"1\" class=\"dataframe\">\n",
       "  <thead>\n",
       "    <tr style=\"text-align: right;\">\n",
       "      <th></th>\n",
       "      <th>User-ID</th>\n",
       "      <th>Book-Rating</th>\n",
       "      <th>ISBN</th>\n",
       "      <th>Book-Title</th>\n",
       "      <th>Book-Author</th>\n",
       "      <th>Year-Of-Publication</th>\n",
       "      <th>Publisher</th>\n",
       "    </tr>\n",
       "  </thead>\n",
       "  <tbody>\n",
       "    <tr>\n",
       "      <th>98</th>\n",
       "      <td>277478</td>\n",
       "      <td>0</td>\n",
       "      <td>0440234743</td>\n",
       "      <td>The Testament</td>\n",
       "      <td>John Grisham</td>\n",
       "      <td>1999</td>\n",
       "      <td>Dell</td>\n",
       "    </tr>\n",
       "    <tr>\n",
       "      <th>103</th>\n",
       "      <td>2977</td>\n",
       "      <td>0</td>\n",
       "      <td>0440234743</td>\n",
       "      <td>The Testament</td>\n",
       "      <td>John Grisham</td>\n",
       "      <td>1999</td>\n",
       "      <td>Dell</td>\n",
       "    </tr>\n",
       "    <tr>\n",
       "      <th>105</th>\n",
       "      <td>3363</td>\n",
       "      <td>0</td>\n",
       "      <td>0440234743</td>\n",
       "      <td>The Testament</td>\n",
       "      <td>John Grisham</td>\n",
       "      <td>1999</td>\n",
       "      <td>Dell</td>\n",
       "    </tr>\n",
       "    <tr>\n",
       "      <th>108</th>\n",
       "      <td>7346</td>\n",
       "      <td>9</td>\n",
       "      <td>0440234743</td>\n",
       "      <td>The Testament</td>\n",
       "      <td>John Grisham</td>\n",
       "      <td>1999</td>\n",
       "      <td>Dell</td>\n",
       "    </tr>\n",
       "    <tr>\n",
       "      <th>111</th>\n",
       "      <td>9747</td>\n",
       "      <td>0</td>\n",
       "      <td>0440234743</td>\n",
       "      <td>The Testament</td>\n",
       "      <td>John Grisham</td>\n",
       "      <td>1999</td>\n",
       "      <td>Dell</td>\n",
       "    </tr>\n",
       "  </tbody>\n",
       "</table>\n",
       "</div>"
      ],
      "text/plain": [
       "     User-ID  Book-Rating        ISBN     Book-Title   Book-Author  \\\n",
       "98    277478            0  0440234743  The Testament  John Grisham   \n",
       "103     2977            0  0440234743  The Testament  John Grisham   \n",
       "105     3363            0  0440234743  The Testament  John Grisham   \n",
       "108     7346            9  0440234743  The Testament  John Grisham   \n",
       "111     9747            0  0440234743  The Testament  John Grisham   \n",
       "\n",
       "    Year-Of-Publication Publisher  \n",
       "98                 1999      Dell  \n",
       "103                1999      Dell  \n",
       "105                1999      Dell  \n",
       "108                1999      Dell  \n",
       "111                1999      Dell  "
      ]
     },
     "execution_count": 36,
     "metadata": {},
     "output_type": "execute_result"
    }
   ],
   "source": [
    "final_users = filtered_users[filtered_users['Book-Title'].isin(famous_books)]\n",
    "final_users.head()"
   ]
  },
  {
   "cell_type": "code",
   "execution_count": 37,
   "id": "4a1ef347",
   "metadata": {},
   "outputs": [
    {
     "data": {
      "text/html": [
       "<div>\n",
       "<style scoped>\n",
       "    .dataframe tbody tr th:only-of-type {\n",
       "        vertical-align: middle;\n",
       "    }\n",
       "\n",
       "    .dataframe tbody tr th {\n",
       "        vertical-align: top;\n",
       "    }\n",
       "\n",
       "    .dataframe thead th {\n",
       "        text-align: right;\n",
       "    }\n",
       "</style>\n",
       "<table border=\"1\" class=\"dataframe\">\n",
       "  <thead>\n",
       "    <tr style=\"text-align: right;\">\n",
       "      <th>User-ID</th>\n",
       "      <th>254</th>\n",
       "      <th>507</th>\n",
       "      <th>882</th>\n",
       "      <th>1424</th>\n",
       "      <th>1435</th>\n",
       "      <th>1733</th>\n",
       "      <th>1903</th>\n",
       "      <th>2033</th>\n",
       "      <th>2110</th>\n",
       "      <th>2276</th>\n",
       "      <th>...</th>\n",
       "      <th>274808</th>\n",
       "      <th>275020</th>\n",
       "      <th>275970</th>\n",
       "      <th>276680</th>\n",
       "      <th>277427</th>\n",
       "      <th>277478</th>\n",
       "      <th>277639</th>\n",
       "      <th>278137</th>\n",
       "      <th>278188</th>\n",
       "      <th>278418</th>\n",
       "    </tr>\n",
       "    <tr>\n",
       "      <th>Book-Title</th>\n",
       "      <th></th>\n",
       "      <th></th>\n",
       "      <th></th>\n",
       "      <th></th>\n",
       "      <th></th>\n",
       "      <th></th>\n",
       "      <th></th>\n",
       "      <th></th>\n",
       "      <th></th>\n",
       "      <th></th>\n",
       "      <th></th>\n",
       "      <th></th>\n",
       "      <th></th>\n",
       "      <th></th>\n",
       "      <th></th>\n",
       "      <th></th>\n",
       "      <th></th>\n",
       "      <th></th>\n",
       "      <th></th>\n",
       "      <th></th>\n",
       "      <th></th>\n",
       "    </tr>\n",
       "  </thead>\n",
       "  <tbody>\n",
       "    <tr>\n",
       "      <th>1984</th>\n",
       "      <td>9.0</td>\n",
       "      <td>0.0</td>\n",
       "      <td>0.0</td>\n",
       "      <td>0.0</td>\n",
       "      <td>0.0</td>\n",
       "      <td>0.0</td>\n",
       "      <td>0.0</td>\n",
       "      <td>0.0</td>\n",
       "      <td>0.0</td>\n",
       "      <td>0.0</td>\n",
       "      <td>...</td>\n",
       "      <td>0.0</td>\n",
       "      <td>0.0</td>\n",
       "      <td>0.0</td>\n",
       "      <td>0.0</td>\n",
       "      <td>0.0</td>\n",
       "      <td>0.0</td>\n",
       "      <td>0.0</td>\n",
       "      <td>0.0</td>\n",
       "      <td>0.0</td>\n",
       "      <td>0.0</td>\n",
       "    </tr>\n",
       "    <tr>\n",
       "      <th>1st to Die: A Novel</th>\n",
       "      <td>0.0</td>\n",
       "      <td>0.0</td>\n",
       "      <td>0.0</td>\n",
       "      <td>0.0</td>\n",
       "      <td>0.0</td>\n",
       "      <td>0.0</td>\n",
       "      <td>0.0</td>\n",
       "      <td>0.0</td>\n",
       "      <td>0.0</td>\n",
       "      <td>0.0</td>\n",
       "      <td>...</td>\n",
       "      <td>0.0</td>\n",
       "      <td>0.0</td>\n",
       "      <td>0.0</td>\n",
       "      <td>0.0</td>\n",
       "      <td>0.0</td>\n",
       "      <td>0.0</td>\n",
       "      <td>0.0</td>\n",
       "      <td>0.0</td>\n",
       "      <td>0.0</td>\n",
       "      <td>0.0</td>\n",
       "    </tr>\n",
       "    <tr>\n",
       "      <th>2010: Odyssey Two</th>\n",
       "      <td>0.0</td>\n",
       "      <td>0.0</td>\n",
       "      <td>0.0</td>\n",
       "      <td>0.0</td>\n",
       "      <td>0.0</td>\n",
       "      <td>0.0</td>\n",
       "      <td>0.0</td>\n",
       "      <td>0.0</td>\n",
       "      <td>0.0</td>\n",
       "      <td>0.0</td>\n",
       "      <td>...</td>\n",
       "      <td>0.0</td>\n",
       "      <td>0.0</td>\n",
       "      <td>0.0</td>\n",
       "      <td>0.0</td>\n",
       "      <td>0.0</td>\n",
       "      <td>0.0</td>\n",
       "      <td>0.0</td>\n",
       "      <td>0.0</td>\n",
       "      <td>0.0</td>\n",
       "      <td>0.0</td>\n",
       "    </tr>\n",
       "    <tr>\n",
       "      <th>2nd Chance</th>\n",
       "      <td>0.0</td>\n",
       "      <td>0.0</td>\n",
       "      <td>0.0</td>\n",
       "      <td>0.0</td>\n",
       "      <td>0.0</td>\n",
       "      <td>0.0</td>\n",
       "      <td>0.0</td>\n",
       "      <td>0.0</td>\n",
       "      <td>0.0</td>\n",
       "      <td>0.0</td>\n",
       "      <td>...</td>\n",
       "      <td>0.0</td>\n",
       "      <td>0.0</td>\n",
       "      <td>0.0</td>\n",
       "      <td>0.0</td>\n",
       "      <td>0.0</td>\n",
       "      <td>0.0</td>\n",
       "      <td>0.0</td>\n",
       "      <td>0.0</td>\n",
       "      <td>0.0</td>\n",
       "      <td>0.0</td>\n",
       "    </tr>\n",
       "    <tr>\n",
       "      <th>4 Blondes</th>\n",
       "      <td>0.0</td>\n",
       "      <td>0.0</td>\n",
       "      <td>0.0</td>\n",
       "      <td>0.0</td>\n",
       "      <td>0.0</td>\n",
       "      <td>0.0</td>\n",
       "      <td>0.0</td>\n",
       "      <td>0.0</td>\n",
       "      <td>0.0</td>\n",
       "      <td>0.0</td>\n",
       "      <td>...</td>\n",
       "      <td>0.0</td>\n",
       "      <td>0.0</td>\n",
       "      <td>0.0</td>\n",
       "      <td>0.0</td>\n",
       "      <td>0.0</td>\n",
       "      <td>0.0</td>\n",
       "      <td>0.0</td>\n",
       "      <td>0.0</td>\n",
       "      <td>0.0</td>\n",
       "      <td>0.0</td>\n",
       "    </tr>\n",
       "  </tbody>\n",
       "</table>\n",
       "<p>5 rows × 1391 columns</p>\n",
       "</div>"
      ],
      "text/plain": [
       "User-ID              254     507     882     1424    1435    1733    1903    \\\n",
       "Book-Title                                                                    \n",
       "1984                    9.0     0.0     0.0     0.0     0.0     0.0     0.0   \n",
       "1st to Die: A Novel     0.0     0.0     0.0     0.0     0.0     0.0     0.0   \n",
       "2010: Odyssey Two       0.0     0.0     0.0     0.0     0.0     0.0     0.0   \n",
       "2nd Chance              0.0     0.0     0.0     0.0     0.0     0.0     0.0   \n",
       "4 Blondes               0.0     0.0     0.0     0.0     0.0     0.0     0.0   \n",
       "\n",
       "User-ID              2033    2110    2276    ...  274808  275020  275970  \\\n",
       "Book-Title                                   ...                           \n",
       "1984                    0.0     0.0     0.0  ...     0.0     0.0     0.0   \n",
       "1st to Die: A Novel     0.0     0.0     0.0  ...     0.0     0.0     0.0   \n",
       "2010: Odyssey Two       0.0     0.0     0.0  ...     0.0     0.0     0.0   \n",
       "2nd Chance              0.0     0.0     0.0  ...     0.0     0.0     0.0   \n",
       "4 Blondes               0.0     0.0     0.0  ...     0.0     0.0     0.0   \n",
       "\n",
       "User-ID              276680  277427  277478  277639  278137  278188  278418  \n",
       "Book-Title                                                                   \n",
       "1984                    0.0     0.0     0.0     0.0     0.0     0.0     0.0  \n",
       "1st to Die: A Novel     0.0     0.0     0.0     0.0     0.0     0.0     0.0  \n",
       "2010: Odyssey Two       0.0     0.0     0.0     0.0     0.0     0.0     0.0  \n",
       "2nd Chance              0.0     0.0     0.0     0.0     0.0     0.0     0.0  \n",
       "4 Blondes               0.0     0.0     0.0     0.0     0.0     0.0     0.0  \n",
       "\n",
       "[5 rows x 1391 columns]"
      ]
     },
     "execution_count": 37,
     "metadata": {},
     "output_type": "execute_result"
    }
   ],
   "source": [
    "pivot_table = final_users.pivot_table(index = 'Book-Title', columns = 'User-ID', values = 'Book-Rating')\n",
    "pivot_table.fillna(0, inplace = True)\n",
    "pivot_table.head()"
   ]
  },
  {
   "cell_type": "code",
   "execution_count": 38,
   "id": "07127b90",
   "metadata": {},
   "outputs": [
    {
     "data": {
      "text/plain": [
       "array([[ 7.64872154, -0.07946654, -0.11651892, ..., -0.08988424,\n",
       "        -0.08753254, -0.0977649 ],\n",
       "       [-0.13389447, -0.07946654, -0.11651892, ..., -0.08988424,\n",
       "        -0.08753254, -0.0977649 ],\n",
       "       [-0.13389447, -0.07946654, -0.11651892, ..., -0.08988424,\n",
       "        -0.08753254, -0.0977649 ],\n",
       "       ...,\n",
       "       [-0.13389447, -0.07946654, -0.11651892, ..., -0.08988424,\n",
       "        -0.08753254, -0.0977649 ],\n",
       "       [-0.13389447, -0.07946654, -0.11651892, ..., -0.08988424,\n",
       "        -0.08753254, -0.0977649 ],\n",
       "       [-0.13389447, -0.07946654, -0.11651892, ..., -0.08988424,\n",
       "        -0.08753254, -0.0977649 ]])"
      ]
     },
     "execution_count": 38,
     "metadata": {},
     "output_type": "execute_result"
    }
   ],
   "source": [
    "scaler = StandardScaler(with_mean=True, with_std=True)\n",
    "pt_normalized = scaler.fit_transform(pivot_table)\n",
    "pt_normalized"
   ]
  },
  {
   "cell_type": "markdown",
   "id": "4f9f30d7",
   "metadata": {},
   "source": [
    "### Create Model"
   ]
  },
  {
   "cell_type": "code",
   "execution_count": 39,
   "id": "8a35fbdd",
   "metadata": {},
   "outputs": [
    {
     "data": {
      "text/plain": [
       "(620, 620)"
      ]
     },
     "execution_count": 39,
     "metadata": {},
     "output_type": "execute_result"
    }
   ],
   "source": [
    "similarity_matrix = cosine_similarity(pt_normalized)\n",
    "similarity_matrix.shape"
   ]
  },
  {
   "cell_type": "code",
   "execution_count": 40,
   "id": "11ef8fa7",
   "metadata": {},
   "outputs": [],
   "source": [
    "def recommend(book_name):\n",
    "    \n",
    "    # returns the numerical index for the book_name\n",
    "    index = np.where(pivot_table.index==book_name)[0][0]\n",
    "    \n",
    "    # sorts the similarities for the book_name in descending order\n",
    "    similar_books = sorted(list(enumerate(similarity_matrix[index])),key=lambda x:x[1], reverse=True)[1:6]\n",
    "    \n",
    "    # To return result in list format\n",
    "    data = []\n",
    "    \n",
    "    for index,similarity in similar_books:\n",
    "        item = []\n",
    "        # Get the book details by index\n",
    "        temp_df = new_books[new_books['Book-Title'] == pivot_table.index[index]]\n",
    "        \n",
    "        # Only add the title, author, and image-url to the result\n",
    "        item.extend(temp_df['Book-Title'].values)\n",
    "        item.extend(temp_df['Book-Author'].values)\n",
    "        item.extend(temp_df['Image-URL-M'].values)\n",
    "        \n",
    "        data.append(item)\n",
    "    return data"
   ]
  },
  {
   "cell_type": "code",
   "execution_count": 41,
   "id": "344f2681",
   "metadata": {},
   "outputs": [
    {
     "data": {
      "text/plain": [
       "[['Pay It Forward',\n",
       "  'Catherine Ryan Hyde',\n",
       "  'http://images.amazon.com/images/P/0743412028.01.MZZZZZZZ.jpg'],\n",
       " [\"She's Come Undone (Oprah's Book Club)\",\n",
       "  'Wally Lamb',\n",
       "  'http://images.amazon.com/images/P/0671021001.01.MZZZZZZZ.jpg'],\n",
       " ['Circle of Friends',\n",
       "  'Maeve Binchy',\n",
       "  'http://images.amazon.com/images/P/0440211263.01.MZZZZZZZ.jpg'],\n",
       " ['A Year in Provence',\n",
       "  'Peter Mayle',\n",
       "  'http://images.amazon.com/images/P/0679731148.01.MZZZZZZZ.jpg'],\n",
       " ['The Cove',\n",
       "  'Catherine Coulter',\n",
       "  'http://images.amazon.com/images/P/0515118656.01.MZZZZZZZ.jpg']]"
      ]
     },
     "execution_count": 41,
     "metadata": {},
     "output_type": "execute_result"
    }
   ],
   "source": [
    "recommend(\"Wild Animus\")"
   ]
  },
  {
   "cell_type": "markdown",
   "id": "887c5858",
   "metadata": {},
   "source": [
    "Based on the Results, the **Top 5 Recommended Books** that are similar with `Wild Animus` are:\n",
    "1. `Pay It Forward` by Chaterine Ryan Hyde\n",
    "2. `She's Come Undone (Oprah's Book Club)` by Wally Lamb\n",
    "3. `Circle of Friends` by Maeve Binchy\n",
    "4. `A Year in Provence` by Peter Mayle\n",
    "5. `The Cove` by Catherine Coulter\n",
    "\n",
    "Let's see the accuracy by cross-checking between each books in the results."
   ]
  },
  {
   "cell_type": "code",
   "execution_count": 42,
   "id": "2eaeaa4b",
   "metadata": {},
   "outputs": [
    {
     "data": {
      "text/plain": [
       "[['D Is for Deadbeat (Kinsey Millhone Mysteries (Paperback))',\n",
       "  'Sue Grafton',\n",
       "  'http://images.amazon.com/images/P/0553271636.01.MZZZZZZZ.jpg'],\n",
       " ['Circle of Friends',\n",
       "  'Maeve Binchy',\n",
       "  'http://images.amazon.com/images/P/0440211263.01.MZZZZZZZ.jpg'],\n",
       " ['Wild Animus',\n",
       "  'Rich Shapero',\n",
       "  'http://images.amazon.com/images/P/0971880107.01.MZZZZZZZ.jpg'],\n",
       " [\"The Dive From Clausen's Pier : A Novel (Vintage Contemporaries (Paperback))\",\n",
       "  'ANN PACKER',\n",
       "  'http://images.amazon.com/images/P/0375727132.01.MZZZZZZZ.jpg'],\n",
       " ['K Is for Killer (Kinsey Millhone Mysteries (Paperback))',\n",
       "  'Sue Grafton',\n",
       "  'http://images.amazon.com/images/P/0449221504.01.MZZZZZZZ.jpg']]"
      ]
     },
     "execution_count": 42,
     "metadata": {},
     "output_type": "execute_result"
    }
   ],
   "source": [
    "recommend(\"Pay It Forward\")"
   ]
  },
  {
   "cell_type": "code",
   "execution_count": 43,
   "id": "18eb1191",
   "metadata": {},
   "outputs": [
    {
     "data": {
      "text/plain": [
       "[['The Glass Lake',\n",
       "  'Maeve Binchy',\n",
       "  'http://images.amazon.com/images/P/0440221595.01.MZZZZZZZ.jpg'],\n",
       " ['The Bonfire of the Vanities',\n",
       "  'Tom Wolfe',\n",
       "  'http://images.amazon.com/images/P/0553275976.01.MZZZZZZZ.jpg'],\n",
       " ['Pay It Forward',\n",
       "  'Catherine Ryan Hyde',\n",
       "  'http://images.amazon.com/images/P/0743412028.01.MZZZZZZZ.jpg'],\n",
       " ['The Return Journey',\n",
       "  'MAEVE BINCHY',\n",
       "  'http://images.amazon.com/images/P/0440224594.01.MZZZZZZZ.jpg'],\n",
       " ['GARDEN OF SHADOWS (Dollanger Saga (Paperback))',\n",
       "  'Ariel Jennifer Jones',\n",
       "  'http://images.amazon.com/images/P/067164257X.01.MZZZZZZZ.jpg']]"
      ]
     },
     "execution_count": 43,
     "metadata": {},
     "output_type": "execute_result"
    }
   ],
   "source": [
    "recommend(\"Circle of Friends\")"
   ]
  },
  {
   "cell_type": "code",
   "execution_count": 44,
   "id": "a6842f05",
   "metadata": {},
   "outputs": [
    {
     "data": {
      "text/plain": [
       "[['The Catcher in the Rye',\n",
       "  'J.D. Salinger',\n",
       "  'http://images.amazon.com/images/P/0316769487.01.MZZZZZZZ.jpg'],\n",
       " ['The Third Twin',\n",
       "  'Ken Follett',\n",
       "  'http://images.amazon.com/images/P/0449227421.01.MZZZZZZZ.jpg'],\n",
       " ['Sanctuary',\n",
       "  'Nora Roberts',\n",
       "  'http://images.amazon.com/images/P/0515122734.01.MZZZZZZZ.jpg'],\n",
       " ['The Celestine Prophecy (Celestine Prophecy)',\n",
       "  'James Redfield',\n",
       "  'http://images.amazon.com/images/P/044651862X.01.MZZZZZZZ.jpg'],\n",
       " ['Mutation',\n",
       "  'Robin Cook',\n",
       "  'http://images.amazon.com/images/P/0425119653.01.MZZZZZZZ.jpg']]"
      ]
     },
     "execution_count": 44,
     "metadata": {},
     "output_type": "execute_result"
    }
   ],
   "source": [
    "recommend(\"The Cove\")"
   ]
  }
 ],
 "metadata": {
  "kernelspec": {
   "display_name": "Python 3 (ipykernel)",
   "language": "python",
   "name": "python3"
  },
  "language_info": {
   "codemirror_mode": {
    "name": "ipython",
    "version": 3
   },
   "file_extension": ".py",
   "mimetype": "text/x-python",
   "name": "python",
   "nbconvert_exporter": "python",
   "pygments_lexer": "ipython3",
   "version": "3.11.7"
  }
 },
 "nbformat": 4,
 "nbformat_minor": 5
}
